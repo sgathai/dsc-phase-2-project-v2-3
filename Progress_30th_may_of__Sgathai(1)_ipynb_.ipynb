{
  "cells": [
    {
      "cell_type": "markdown",
      "metadata": {
        "id": "view-in-github",
        "colab_type": "text"
      },
      "source": [
        "<a href=\"https://colab.research.google.com/github/sgathai/dsc-phase-2-project-v2-3/blob/main/Progress_30th_may_of__Sgathai(1)_ipynb_.ipynb\" target=\"_parent\"><img src=\"https://colab.research.google.com/assets/colab-badge.svg\" alt=\"Open In Colab\"/></a>"
      ]
    },
    {
      "cell_type": "markdown",
      "metadata": {
        "id": "daf3mxsUYfL-"
      },
      "source": [
        "## Final Project Submission\n",
        "\n",
        "Please fill out:\n",
        "* Student name: \n",
        "* Student pace: self paced / part time / full time\n",
        "* Scheduled project review date/time: \n",
        "* Instructor name: \n",
        "* Blog post URL:\n"
      ]
    },
    {
      "cell_type": "code",
      "execution_count": 1,
      "metadata": {
        "colab": {
          "base_uri": "https://localhost:8080/",
          "height": 591
        },
        "id": "JTZmdg3yYfMM",
        "outputId": "307d78ea-593b-4334-e9ac-96fc8f14c3d4"
      },
      "outputs": [
        {
          "output_type": "execute_result",
          "data": {
            "text/plain": [
              "               id        date     price  bedrooms  bathrooms  sqft_living  \\\n",
              "0      7129300520  10/13/2014  221900.0         3       1.00         1180   \n",
              "1      6414100192   12/9/2014  538000.0         3       2.25         2570   \n",
              "2      5631500400   2/25/2015  180000.0         2       1.00          770   \n",
              "3      2487200875   12/9/2014  604000.0         4       3.00         1960   \n",
              "4      1954400510   2/18/2015  510000.0         3       2.00         1680   \n",
              "...           ...         ...       ...       ...        ...          ...   \n",
              "21592   263000018   5/21/2014  360000.0         3       2.50         1530   \n",
              "21593  6600060120   2/23/2015  400000.0         4       2.50         2310   \n",
              "21594  1523300141   6/23/2014  402101.0         2       0.75         1020   \n",
              "21595   291310100   1/16/2015  400000.0         3       2.50         1600   \n",
              "21596  1523300157  10/15/2014  325000.0         2       0.75         1020   \n",
              "\n",
              "       sqft_lot  floors waterfront  view  ...          grade sqft_above  \\\n",
              "0          5650     1.0        NaN  NONE  ...      7 Average       1180   \n",
              "1          7242     2.0         NO  NONE  ...      7 Average       2170   \n",
              "2         10000     1.0         NO  NONE  ...  6 Low Average        770   \n",
              "3          5000     1.0         NO  NONE  ...      7 Average       1050   \n",
              "4          8080     1.0         NO  NONE  ...         8 Good       1680   \n",
              "...         ...     ...        ...   ...  ...            ...        ...   \n",
              "21592      1131     3.0         NO  NONE  ...         8 Good       1530   \n",
              "21593      5813     2.0         NO  NONE  ...         8 Good       2310   \n",
              "21594      1350     2.0         NO  NONE  ...      7 Average       1020   \n",
              "21595      2388     2.0        NaN  NONE  ...         8 Good       1600   \n",
              "21596      1076     2.0         NO  NONE  ...      7 Average       1020   \n",
              "\n",
              "       sqft_basement yr_built  yr_renovated  zipcode      lat     long  \\\n",
              "0                0.0     1955           0.0    98178  47.5112 -122.257   \n",
              "1              400.0     1951        1991.0    98125  47.7210 -122.319   \n",
              "2                0.0     1933           NaN    98028  47.7379 -122.233   \n",
              "3              910.0     1965           0.0    98136  47.5208 -122.393   \n",
              "4                0.0     1987           0.0    98074  47.6168 -122.045   \n",
              "...              ...      ...           ...      ...      ...      ...   \n",
              "21592            0.0     2009           0.0    98103  47.6993 -122.346   \n",
              "21593            0.0     2014           0.0    98146  47.5107 -122.362   \n",
              "21594            0.0     2009           0.0    98144  47.5944 -122.299   \n",
              "21595            0.0     2004           0.0    98027  47.5345 -122.069   \n",
              "21596            0.0     2008           0.0    98144  47.5941 -122.299   \n",
              "\n",
              "       sqft_living15  sqft_lot15  \n",
              "0               1340        5650  \n",
              "1               1690        7639  \n",
              "2               2720        8062  \n",
              "3               1360        5000  \n",
              "4               1800        7503  \n",
              "...              ...         ...  \n",
              "21592           1530        1509  \n",
              "21593           1830        7200  \n",
              "21594           1020        2007  \n",
              "21595           1410        1287  \n",
              "21596           1020        1357  \n",
              "\n",
              "[21597 rows x 21 columns]"
            ],
            "text/html": [
              "\n",
              "  <div id=\"df-131e880f-8d86-46e0-8721-c8539f4dbd70\">\n",
              "    <div class=\"colab-df-container\">\n",
              "      <div>\n",
              "<style scoped>\n",
              "    .dataframe tbody tr th:only-of-type {\n",
              "        vertical-align: middle;\n",
              "    }\n",
              "\n",
              "    .dataframe tbody tr th {\n",
              "        vertical-align: top;\n",
              "    }\n",
              "\n",
              "    .dataframe thead th {\n",
              "        text-align: right;\n",
              "    }\n",
              "</style>\n",
              "<table border=\"1\" class=\"dataframe\">\n",
              "  <thead>\n",
              "    <tr style=\"text-align: right;\">\n",
              "      <th></th>\n",
              "      <th>id</th>\n",
              "      <th>date</th>\n",
              "      <th>price</th>\n",
              "      <th>bedrooms</th>\n",
              "      <th>bathrooms</th>\n",
              "      <th>sqft_living</th>\n",
              "      <th>sqft_lot</th>\n",
              "      <th>floors</th>\n",
              "      <th>waterfront</th>\n",
              "      <th>view</th>\n",
              "      <th>...</th>\n",
              "      <th>grade</th>\n",
              "      <th>sqft_above</th>\n",
              "      <th>sqft_basement</th>\n",
              "      <th>yr_built</th>\n",
              "      <th>yr_renovated</th>\n",
              "      <th>zipcode</th>\n",
              "      <th>lat</th>\n",
              "      <th>long</th>\n",
              "      <th>sqft_living15</th>\n",
              "      <th>sqft_lot15</th>\n",
              "    </tr>\n",
              "  </thead>\n",
              "  <tbody>\n",
              "    <tr>\n",
              "      <th>0</th>\n",
              "      <td>7129300520</td>\n",
              "      <td>10/13/2014</td>\n",
              "      <td>221900.0</td>\n",
              "      <td>3</td>\n",
              "      <td>1.00</td>\n",
              "      <td>1180</td>\n",
              "      <td>5650</td>\n",
              "      <td>1.0</td>\n",
              "      <td>NaN</td>\n",
              "      <td>NONE</td>\n",
              "      <td>...</td>\n",
              "      <td>7 Average</td>\n",
              "      <td>1180</td>\n",
              "      <td>0.0</td>\n",
              "      <td>1955</td>\n",
              "      <td>0.0</td>\n",
              "      <td>98178</td>\n",
              "      <td>47.5112</td>\n",
              "      <td>-122.257</td>\n",
              "      <td>1340</td>\n",
              "      <td>5650</td>\n",
              "    </tr>\n",
              "    <tr>\n",
              "      <th>1</th>\n",
              "      <td>6414100192</td>\n",
              "      <td>12/9/2014</td>\n",
              "      <td>538000.0</td>\n",
              "      <td>3</td>\n",
              "      <td>2.25</td>\n",
              "      <td>2570</td>\n",
              "      <td>7242</td>\n",
              "      <td>2.0</td>\n",
              "      <td>NO</td>\n",
              "      <td>NONE</td>\n",
              "      <td>...</td>\n",
              "      <td>7 Average</td>\n",
              "      <td>2170</td>\n",
              "      <td>400.0</td>\n",
              "      <td>1951</td>\n",
              "      <td>1991.0</td>\n",
              "      <td>98125</td>\n",
              "      <td>47.7210</td>\n",
              "      <td>-122.319</td>\n",
              "      <td>1690</td>\n",
              "      <td>7639</td>\n",
              "    </tr>\n",
              "    <tr>\n",
              "      <th>2</th>\n",
              "      <td>5631500400</td>\n",
              "      <td>2/25/2015</td>\n",
              "      <td>180000.0</td>\n",
              "      <td>2</td>\n",
              "      <td>1.00</td>\n",
              "      <td>770</td>\n",
              "      <td>10000</td>\n",
              "      <td>1.0</td>\n",
              "      <td>NO</td>\n",
              "      <td>NONE</td>\n",
              "      <td>...</td>\n",
              "      <td>6 Low Average</td>\n",
              "      <td>770</td>\n",
              "      <td>0.0</td>\n",
              "      <td>1933</td>\n",
              "      <td>NaN</td>\n",
              "      <td>98028</td>\n",
              "      <td>47.7379</td>\n",
              "      <td>-122.233</td>\n",
              "      <td>2720</td>\n",
              "      <td>8062</td>\n",
              "    </tr>\n",
              "    <tr>\n",
              "      <th>3</th>\n",
              "      <td>2487200875</td>\n",
              "      <td>12/9/2014</td>\n",
              "      <td>604000.0</td>\n",
              "      <td>4</td>\n",
              "      <td>3.00</td>\n",
              "      <td>1960</td>\n",
              "      <td>5000</td>\n",
              "      <td>1.0</td>\n",
              "      <td>NO</td>\n",
              "      <td>NONE</td>\n",
              "      <td>...</td>\n",
              "      <td>7 Average</td>\n",
              "      <td>1050</td>\n",
              "      <td>910.0</td>\n",
              "      <td>1965</td>\n",
              "      <td>0.0</td>\n",
              "      <td>98136</td>\n",
              "      <td>47.5208</td>\n",
              "      <td>-122.393</td>\n",
              "      <td>1360</td>\n",
              "      <td>5000</td>\n",
              "    </tr>\n",
              "    <tr>\n",
              "      <th>4</th>\n",
              "      <td>1954400510</td>\n",
              "      <td>2/18/2015</td>\n",
              "      <td>510000.0</td>\n",
              "      <td>3</td>\n",
              "      <td>2.00</td>\n",
              "      <td>1680</td>\n",
              "      <td>8080</td>\n",
              "      <td>1.0</td>\n",
              "      <td>NO</td>\n",
              "      <td>NONE</td>\n",
              "      <td>...</td>\n",
              "      <td>8 Good</td>\n",
              "      <td>1680</td>\n",
              "      <td>0.0</td>\n",
              "      <td>1987</td>\n",
              "      <td>0.0</td>\n",
              "      <td>98074</td>\n",
              "      <td>47.6168</td>\n",
              "      <td>-122.045</td>\n",
              "      <td>1800</td>\n",
              "      <td>7503</td>\n",
              "    </tr>\n",
              "    <tr>\n",
              "      <th>...</th>\n",
              "      <td>...</td>\n",
              "      <td>...</td>\n",
              "      <td>...</td>\n",
              "      <td>...</td>\n",
              "      <td>...</td>\n",
              "      <td>...</td>\n",
              "      <td>...</td>\n",
              "      <td>...</td>\n",
              "      <td>...</td>\n",
              "      <td>...</td>\n",
              "      <td>...</td>\n",
              "      <td>...</td>\n",
              "      <td>...</td>\n",
              "      <td>...</td>\n",
              "      <td>...</td>\n",
              "      <td>...</td>\n",
              "      <td>...</td>\n",
              "      <td>...</td>\n",
              "      <td>...</td>\n",
              "      <td>...</td>\n",
              "      <td>...</td>\n",
              "    </tr>\n",
              "    <tr>\n",
              "      <th>21592</th>\n",
              "      <td>263000018</td>\n",
              "      <td>5/21/2014</td>\n",
              "      <td>360000.0</td>\n",
              "      <td>3</td>\n",
              "      <td>2.50</td>\n",
              "      <td>1530</td>\n",
              "      <td>1131</td>\n",
              "      <td>3.0</td>\n",
              "      <td>NO</td>\n",
              "      <td>NONE</td>\n",
              "      <td>...</td>\n",
              "      <td>8 Good</td>\n",
              "      <td>1530</td>\n",
              "      <td>0.0</td>\n",
              "      <td>2009</td>\n",
              "      <td>0.0</td>\n",
              "      <td>98103</td>\n",
              "      <td>47.6993</td>\n",
              "      <td>-122.346</td>\n",
              "      <td>1530</td>\n",
              "      <td>1509</td>\n",
              "    </tr>\n",
              "    <tr>\n",
              "      <th>21593</th>\n",
              "      <td>6600060120</td>\n",
              "      <td>2/23/2015</td>\n",
              "      <td>400000.0</td>\n",
              "      <td>4</td>\n",
              "      <td>2.50</td>\n",
              "      <td>2310</td>\n",
              "      <td>5813</td>\n",
              "      <td>2.0</td>\n",
              "      <td>NO</td>\n",
              "      <td>NONE</td>\n",
              "      <td>...</td>\n",
              "      <td>8 Good</td>\n",
              "      <td>2310</td>\n",
              "      <td>0.0</td>\n",
              "      <td>2014</td>\n",
              "      <td>0.0</td>\n",
              "      <td>98146</td>\n",
              "      <td>47.5107</td>\n",
              "      <td>-122.362</td>\n",
              "      <td>1830</td>\n",
              "      <td>7200</td>\n",
              "    </tr>\n",
              "    <tr>\n",
              "      <th>21594</th>\n",
              "      <td>1523300141</td>\n",
              "      <td>6/23/2014</td>\n",
              "      <td>402101.0</td>\n",
              "      <td>2</td>\n",
              "      <td>0.75</td>\n",
              "      <td>1020</td>\n",
              "      <td>1350</td>\n",
              "      <td>2.0</td>\n",
              "      <td>NO</td>\n",
              "      <td>NONE</td>\n",
              "      <td>...</td>\n",
              "      <td>7 Average</td>\n",
              "      <td>1020</td>\n",
              "      <td>0.0</td>\n",
              "      <td>2009</td>\n",
              "      <td>0.0</td>\n",
              "      <td>98144</td>\n",
              "      <td>47.5944</td>\n",
              "      <td>-122.299</td>\n",
              "      <td>1020</td>\n",
              "      <td>2007</td>\n",
              "    </tr>\n",
              "    <tr>\n",
              "      <th>21595</th>\n",
              "      <td>291310100</td>\n",
              "      <td>1/16/2015</td>\n",
              "      <td>400000.0</td>\n",
              "      <td>3</td>\n",
              "      <td>2.50</td>\n",
              "      <td>1600</td>\n",
              "      <td>2388</td>\n",
              "      <td>2.0</td>\n",
              "      <td>NaN</td>\n",
              "      <td>NONE</td>\n",
              "      <td>...</td>\n",
              "      <td>8 Good</td>\n",
              "      <td>1600</td>\n",
              "      <td>0.0</td>\n",
              "      <td>2004</td>\n",
              "      <td>0.0</td>\n",
              "      <td>98027</td>\n",
              "      <td>47.5345</td>\n",
              "      <td>-122.069</td>\n",
              "      <td>1410</td>\n",
              "      <td>1287</td>\n",
              "    </tr>\n",
              "    <tr>\n",
              "      <th>21596</th>\n",
              "      <td>1523300157</td>\n",
              "      <td>10/15/2014</td>\n",
              "      <td>325000.0</td>\n",
              "      <td>2</td>\n",
              "      <td>0.75</td>\n",
              "      <td>1020</td>\n",
              "      <td>1076</td>\n",
              "      <td>2.0</td>\n",
              "      <td>NO</td>\n",
              "      <td>NONE</td>\n",
              "      <td>...</td>\n",
              "      <td>7 Average</td>\n",
              "      <td>1020</td>\n",
              "      <td>0.0</td>\n",
              "      <td>2008</td>\n",
              "      <td>0.0</td>\n",
              "      <td>98144</td>\n",
              "      <td>47.5941</td>\n",
              "      <td>-122.299</td>\n",
              "      <td>1020</td>\n",
              "      <td>1357</td>\n",
              "    </tr>\n",
              "  </tbody>\n",
              "</table>\n",
              "<p>21597 rows × 21 columns</p>\n",
              "</div>\n",
              "      <button class=\"colab-df-convert\" onclick=\"convertToInteractive('df-131e880f-8d86-46e0-8721-c8539f4dbd70')\"\n",
              "              title=\"Convert this dataframe to an interactive table.\"\n",
              "              style=\"display:none;\">\n",
              "        \n",
              "  <svg xmlns=\"http://www.w3.org/2000/svg\" height=\"24px\"viewBox=\"0 0 24 24\"\n",
              "       width=\"24px\">\n",
              "    <path d=\"M0 0h24v24H0V0z\" fill=\"none\"/>\n",
              "    <path d=\"M18.56 5.44l.94 2.06.94-2.06 2.06-.94-2.06-.94-.94-2.06-.94 2.06-2.06.94zm-11 1L8.5 8.5l.94-2.06 2.06-.94-2.06-.94L8.5 2.5l-.94 2.06-2.06.94zm10 10l.94 2.06.94-2.06 2.06-.94-2.06-.94-.94-2.06-.94 2.06-2.06.94z\"/><path d=\"M17.41 7.96l-1.37-1.37c-.4-.4-.92-.59-1.43-.59-.52 0-1.04.2-1.43.59L10.3 9.45l-7.72 7.72c-.78.78-.78 2.05 0 2.83L4 21.41c.39.39.9.59 1.41.59.51 0 1.02-.2 1.41-.59l7.78-7.78 2.81-2.81c.8-.78.8-2.07 0-2.86zM5.41 20L4 18.59l7.72-7.72 1.47 1.35L5.41 20z\"/>\n",
              "  </svg>\n",
              "      </button>\n",
              "      \n",
              "  <style>\n",
              "    .colab-df-container {\n",
              "      display:flex;\n",
              "      flex-wrap:wrap;\n",
              "      gap: 12px;\n",
              "    }\n",
              "\n",
              "    .colab-df-convert {\n",
              "      background-color: #E8F0FE;\n",
              "      border: none;\n",
              "      border-radius: 50%;\n",
              "      cursor: pointer;\n",
              "      display: none;\n",
              "      fill: #1967D2;\n",
              "      height: 32px;\n",
              "      padding: 0 0 0 0;\n",
              "      width: 32px;\n",
              "    }\n",
              "\n",
              "    .colab-df-convert:hover {\n",
              "      background-color: #E2EBFA;\n",
              "      box-shadow: 0px 1px 2px rgba(60, 64, 67, 0.3), 0px 1px 3px 1px rgba(60, 64, 67, 0.15);\n",
              "      fill: #174EA6;\n",
              "    }\n",
              "\n",
              "    [theme=dark] .colab-df-convert {\n",
              "      background-color: #3B4455;\n",
              "      fill: #D2E3FC;\n",
              "    }\n",
              "\n",
              "    [theme=dark] .colab-df-convert:hover {\n",
              "      background-color: #434B5C;\n",
              "      box-shadow: 0px 1px 3px 1px rgba(0, 0, 0, 0.15);\n",
              "      filter: drop-shadow(0px 1px 2px rgba(0, 0, 0, 0.3));\n",
              "      fill: #FFFFFF;\n",
              "    }\n",
              "  </style>\n",
              "\n",
              "      <script>\n",
              "        const buttonEl =\n",
              "          document.querySelector('#df-131e880f-8d86-46e0-8721-c8539f4dbd70 button.colab-df-convert');\n",
              "        buttonEl.style.display =\n",
              "          google.colab.kernel.accessAllowed ? 'block' : 'none';\n",
              "\n",
              "        async function convertToInteractive(key) {\n",
              "          const element = document.querySelector('#df-131e880f-8d86-46e0-8721-c8539f4dbd70');\n",
              "          const dataTable =\n",
              "            await google.colab.kernel.invokeFunction('convertToInteractive',\n",
              "                                                     [key], {});\n",
              "          if (!dataTable) return;\n",
              "\n",
              "          const docLinkHtml = 'Like what you see? Visit the ' +\n",
              "            '<a target=\"_blank\" href=https://colab.research.google.com/notebooks/data_table.ipynb>data table notebook</a>'\n",
              "            + ' to learn more about interactive tables.';\n",
              "          element.innerHTML = '';\n",
              "          dataTable['output_type'] = 'display_data';\n",
              "          await google.colab.output.renderOutput(dataTable, element);\n",
              "          const docLink = document.createElement('div');\n",
              "          docLink.innerHTML = docLinkHtml;\n",
              "          element.appendChild(docLink);\n",
              "        }\n",
              "      </script>\n",
              "    </div>\n",
              "  </div>\n",
              "  "
            ]
          },
          "metadata": {},
          "execution_count": 1
        }
      ],
      "source": [
        "import pandas as pd\n",
        "import numpy as np\n",
        "file_path = '/path/to/your/file.csv'\n",
        "file_path=\"https://raw.githubusercontent.com/learn-co-curriculum/dsc-phase-2-project-v2-3/main/data/kc_house_data.csv\"\n",
        "df = pd.read_csv(file_path)\n",
        "df\n"
      ]
    },
    {
      "cell_type": "code",
      "execution_count": 2,
      "metadata": {
        "colab": {
          "base_uri": "https://localhost:8080/",
          "height": 369
        },
        "id": "eT9mbbEWYfMV",
        "outputId": "28caa8fe-2743-4767-d3e6-dc8bd27bf58e"
      },
      "outputs": [
        {
          "output_type": "execute_result",
          "data": {
            "text/plain": [
              "           id        date     price  bedrooms  bathrooms  sqft_living  \\\n",
              "0  7129300520  10/13/2014  221900.0         3       1.00         1180   \n",
              "1  6414100192   12/9/2014  538000.0         3       2.25         2570   \n",
              "2  5631500400   2/25/2015  180000.0         2       1.00          770   \n",
              "3  2487200875   12/9/2014  604000.0         4       3.00         1960   \n",
              "4  1954400510   2/18/2015  510000.0         3       2.00         1680   \n",
              "\n",
              "   sqft_lot  floors waterfront  view  ...          grade sqft_above  \\\n",
              "0      5650     1.0        NaN  NONE  ...      7 Average       1180   \n",
              "1      7242     2.0         NO  NONE  ...      7 Average       2170   \n",
              "2     10000     1.0         NO  NONE  ...  6 Low Average        770   \n",
              "3      5000     1.0         NO  NONE  ...      7 Average       1050   \n",
              "4      8080     1.0         NO  NONE  ...         8 Good       1680   \n",
              "\n",
              "   sqft_basement yr_built  yr_renovated  zipcode      lat     long  \\\n",
              "0            0.0     1955           0.0    98178  47.5112 -122.257   \n",
              "1          400.0     1951        1991.0    98125  47.7210 -122.319   \n",
              "2            0.0     1933           NaN    98028  47.7379 -122.233   \n",
              "3          910.0     1965           0.0    98136  47.5208 -122.393   \n",
              "4            0.0     1987           0.0    98074  47.6168 -122.045   \n",
              "\n",
              "   sqft_living15  sqft_lot15  \n",
              "0           1340        5650  \n",
              "1           1690        7639  \n",
              "2           2720        8062  \n",
              "3           1360        5000  \n",
              "4           1800        7503  \n",
              "\n",
              "[5 rows x 21 columns]"
            ],
            "text/html": [
              "\n",
              "  <div id=\"df-06dd3063-614f-4a7b-8d56-a3f77fbdd34d\">\n",
              "    <div class=\"colab-df-container\">\n",
              "      <div>\n",
              "<style scoped>\n",
              "    .dataframe tbody tr th:only-of-type {\n",
              "        vertical-align: middle;\n",
              "    }\n",
              "\n",
              "    .dataframe tbody tr th {\n",
              "        vertical-align: top;\n",
              "    }\n",
              "\n",
              "    .dataframe thead th {\n",
              "        text-align: right;\n",
              "    }\n",
              "</style>\n",
              "<table border=\"1\" class=\"dataframe\">\n",
              "  <thead>\n",
              "    <tr style=\"text-align: right;\">\n",
              "      <th></th>\n",
              "      <th>id</th>\n",
              "      <th>date</th>\n",
              "      <th>price</th>\n",
              "      <th>bedrooms</th>\n",
              "      <th>bathrooms</th>\n",
              "      <th>sqft_living</th>\n",
              "      <th>sqft_lot</th>\n",
              "      <th>floors</th>\n",
              "      <th>waterfront</th>\n",
              "      <th>view</th>\n",
              "      <th>...</th>\n",
              "      <th>grade</th>\n",
              "      <th>sqft_above</th>\n",
              "      <th>sqft_basement</th>\n",
              "      <th>yr_built</th>\n",
              "      <th>yr_renovated</th>\n",
              "      <th>zipcode</th>\n",
              "      <th>lat</th>\n",
              "      <th>long</th>\n",
              "      <th>sqft_living15</th>\n",
              "      <th>sqft_lot15</th>\n",
              "    </tr>\n",
              "  </thead>\n",
              "  <tbody>\n",
              "    <tr>\n",
              "      <th>0</th>\n",
              "      <td>7129300520</td>\n",
              "      <td>10/13/2014</td>\n",
              "      <td>221900.0</td>\n",
              "      <td>3</td>\n",
              "      <td>1.00</td>\n",
              "      <td>1180</td>\n",
              "      <td>5650</td>\n",
              "      <td>1.0</td>\n",
              "      <td>NaN</td>\n",
              "      <td>NONE</td>\n",
              "      <td>...</td>\n",
              "      <td>7 Average</td>\n",
              "      <td>1180</td>\n",
              "      <td>0.0</td>\n",
              "      <td>1955</td>\n",
              "      <td>0.0</td>\n",
              "      <td>98178</td>\n",
              "      <td>47.5112</td>\n",
              "      <td>-122.257</td>\n",
              "      <td>1340</td>\n",
              "      <td>5650</td>\n",
              "    </tr>\n",
              "    <tr>\n",
              "      <th>1</th>\n",
              "      <td>6414100192</td>\n",
              "      <td>12/9/2014</td>\n",
              "      <td>538000.0</td>\n",
              "      <td>3</td>\n",
              "      <td>2.25</td>\n",
              "      <td>2570</td>\n",
              "      <td>7242</td>\n",
              "      <td>2.0</td>\n",
              "      <td>NO</td>\n",
              "      <td>NONE</td>\n",
              "      <td>...</td>\n",
              "      <td>7 Average</td>\n",
              "      <td>2170</td>\n",
              "      <td>400.0</td>\n",
              "      <td>1951</td>\n",
              "      <td>1991.0</td>\n",
              "      <td>98125</td>\n",
              "      <td>47.7210</td>\n",
              "      <td>-122.319</td>\n",
              "      <td>1690</td>\n",
              "      <td>7639</td>\n",
              "    </tr>\n",
              "    <tr>\n",
              "      <th>2</th>\n",
              "      <td>5631500400</td>\n",
              "      <td>2/25/2015</td>\n",
              "      <td>180000.0</td>\n",
              "      <td>2</td>\n",
              "      <td>1.00</td>\n",
              "      <td>770</td>\n",
              "      <td>10000</td>\n",
              "      <td>1.0</td>\n",
              "      <td>NO</td>\n",
              "      <td>NONE</td>\n",
              "      <td>...</td>\n",
              "      <td>6 Low Average</td>\n",
              "      <td>770</td>\n",
              "      <td>0.0</td>\n",
              "      <td>1933</td>\n",
              "      <td>NaN</td>\n",
              "      <td>98028</td>\n",
              "      <td>47.7379</td>\n",
              "      <td>-122.233</td>\n",
              "      <td>2720</td>\n",
              "      <td>8062</td>\n",
              "    </tr>\n",
              "    <tr>\n",
              "      <th>3</th>\n",
              "      <td>2487200875</td>\n",
              "      <td>12/9/2014</td>\n",
              "      <td>604000.0</td>\n",
              "      <td>4</td>\n",
              "      <td>3.00</td>\n",
              "      <td>1960</td>\n",
              "      <td>5000</td>\n",
              "      <td>1.0</td>\n",
              "      <td>NO</td>\n",
              "      <td>NONE</td>\n",
              "      <td>...</td>\n",
              "      <td>7 Average</td>\n",
              "      <td>1050</td>\n",
              "      <td>910.0</td>\n",
              "      <td>1965</td>\n",
              "      <td>0.0</td>\n",
              "      <td>98136</td>\n",
              "      <td>47.5208</td>\n",
              "      <td>-122.393</td>\n",
              "      <td>1360</td>\n",
              "      <td>5000</td>\n",
              "    </tr>\n",
              "    <tr>\n",
              "      <th>4</th>\n",
              "      <td>1954400510</td>\n",
              "      <td>2/18/2015</td>\n",
              "      <td>510000.0</td>\n",
              "      <td>3</td>\n",
              "      <td>2.00</td>\n",
              "      <td>1680</td>\n",
              "      <td>8080</td>\n",
              "      <td>1.0</td>\n",
              "      <td>NO</td>\n",
              "      <td>NONE</td>\n",
              "      <td>...</td>\n",
              "      <td>8 Good</td>\n",
              "      <td>1680</td>\n",
              "      <td>0.0</td>\n",
              "      <td>1987</td>\n",
              "      <td>0.0</td>\n",
              "      <td>98074</td>\n",
              "      <td>47.6168</td>\n",
              "      <td>-122.045</td>\n",
              "      <td>1800</td>\n",
              "      <td>7503</td>\n",
              "    </tr>\n",
              "  </tbody>\n",
              "</table>\n",
              "<p>5 rows × 21 columns</p>\n",
              "</div>\n",
              "      <button class=\"colab-df-convert\" onclick=\"convertToInteractive('df-06dd3063-614f-4a7b-8d56-a3f77fbdd34d')\"\n",
              "              title=\"Convert this dataframe to an interactive table.\"\n",
              "              style=\"display:none;\">\n",
              "        \n",
              "  <svg xmlns=\"http://www.w3.org/2000/svg\" height=\"24px\"viewBox=\"0 0 24 24\"\n",
              "       width=\"24px\">\n",
              "    <path d=\"M0 0h24v24H0V0z\" fill=\"none\"/>\n",
              "    <path d=\"M18.56 5.44l.94 2.06.94-2.06 2.06-.94-2.06-.94-.94-2.06-.94 2.06-2.06.94zm-11 1L8.5 8.5l.94-2.06 2.06-.94-2.06-.94L8.5 2.5l-.94 2.06-2.06.94zm10 10l.94 2.06.94-2.06 2.06-.94-2.06-.94-.94-2.06-.94 2.06-2.06.94z\"/><path d=\"M17.41 7.96l-1.37-1.37c-.4-.4-.92-.59-1.43-.59-.52 0-1.04.2-1.43.59L10.3 9.45l-7.72 7.72c-.78.78-.78 2.05 0 2.83L4 21.41c.39.39.9.59 1.41.59.51 0 1.02-.2 1.41-.59l7.78-7.78 2.81-2.81c.8-.78.8-2.07 0-2.86zM5.41 20L4 18.59l7.72-7.72 1.47 1.35L5.41 20z\"/>\n",
              "  </svg>\n",
              "      </button>\n",
              "      \n",
              "  <style>\n",
              "    .colab-df-container {\n",
              "      display:flex;\n",
              "      flex-wrap:wrap;\n",
              "      gap: 12px;\n",
              "    }\n",
              "\n",
              "    .colab-df-convert {\n",
              "      background-color: #E8F0FE;\n",
              "      border: none;\n",
              "      border-radius: 50%;\n",
              "      cursor: pointer;\n",
              "      display: none;\n",
              "      fill: #1967D2;\n",
              "      height: 32px;\n",
              "      padding: 0 0 0 0;\n",
              "      width: 32px;\n",
              "    }\n",
              "\n",
              "    .colab-df-convert:hover {\n",
              "      background-color: #E2EBFA;\n",
              "      box-shadow: 0px 1px 2px rgba(60, 64, 67, 0.3), 0px 1px 3px 1px rgba(60, 64, 67, 0.15);\n",
              "      fill: #174EA6;\n",
              "    }\n",
              "\n",
              "    [theme=dark] .colab-df-convert {\n",
              "      background-color: #3B4455;\n",
              "      fill: #D2E3FC;\n",
              "    }\n",
              "\n",
              "    [theme=dark] .colab-df-convert:hover {\n",
              "      background-color: #434B5C;\n",
              "      box-shadow: 0px 1px 3px 1px rgba(0, 0, 0, 0.15);\n",
              "      filter: drop-shadow(0px 1px 2px rgba(0, 0, 0, 0.3));\n",
              "      fill: #FFFFFF;\n",
              "    }\n",
              "  </style>\n",
              "\n",
              "      <script>\n",
              "        const buttonEl =\n",
              "          document.querySelector('#df-06dd3063-614f-4a7b-8d56-a3f77fbdd34d button.colab-df-convert');\n",
              "        buttonEl.style.display =\n",
              "          google.colab.kernel.accessAllowed ? 'block' : 'none';\n",
              "\n",
              "        async function convertToInteractive(key) {\n",
              "          const element = document.querySelector('#df-06dd3063-614f-4a7b-8d56-a3f77fbdd34d');\n",
              "          const dataTable =\n",
              "            await google.colab.kernel.invokeFunction('convertToInteractive',\n",
              "                                                     [key], {});\n",
              "          if (!dataTable) return;\n",
              "\n",
              "          const docLinkHtml = 'Like what you see? Visit the ' +\n",
              "            '<a target=\"_blank\" href=https://colab.research.google.com/notebooks/data_table.ipynb>data table notebook</a>'\n",
              "            + ' to learn more about interactive tables.';\n",
              "          element.innerHTML = '';\n",
              "          dataTable['output_type'] = 'display_data';\n",
              "          await google.colab.output.renderOutput(dataTable, element);\n",
              "          const docLink = document.createElement('div');\n",
              "          docLink.innerHTML = docLinkHtml;\n",
              "          element.appendChild(docLink);\n",
              "        }\n",
              "      </script>\n",
              "    </div>\n",
              "  </div>\n",
              "  "
            ]
          },
          "metadata": {},
          "execution_count": 2
        }
      ],
      "source": [
        "df.head()\n"
      ]
    },
    {
      "cell_type": "code",
      "source": [
        "df.tail()"
      ],
      "metadata": {
        "colab": {
          "base_uri": "https://localhost:8080/",
          "height": 334
        },
        "id": "WTTyJQm_FAyB",
        "outputId": "c91c36d2-ca76-48da-b05b-8cc5e73f3268"
      },
      "execution_count": 3,
      "outputs": [
        {
          "output_type": "execute_result",
          "data": {
            "text/plain": [
              "               id        date     price  bedrooms  bathrooms  sqft_living  \\\n",
              "21592   263000018   5/21/2014  360000.0         3       2.50         1530   \n",
              "21593  6600060120   2/23/2015  400000.0         4       2.50         2310   \n",
              "21594  1523300141   6/23/2014  402101.0         2       0.75         1020   \n",
              "21595   291310100   1/16/2015  400000.0         3       2.50         1600   \n",
              "21596  1523300157  10/15/2014  325000.0         2       0.75         1020   \n",
              "\n",
              "       sqft_lot  floors waterfront  view  ...      grade sqft_above  \\\n",
              "21592      1131     3.0         NO  NONE  ...     8 Good       1530   \n",
              "21593      5813     2.0         NO  NONE  ...     8 Good       2310   \n",
              "21594      1350     2.0         NO  NONE  ...  7 Average       1020   \n",
              "21595      2388     2.0        NaN  NONE  ...     8 Good       1600   \n",
              "21596      1076     2.0         NO  NONE  ...  7 Average       1020   \n",
              "\n",
              "       sqft_basement yr_built  yr_renovated  zipcode      lat     long  \\\n",
              "21592            0.0     2009           0.0    98103  47.6993 -122.346   \n",
              "21593            0.0     2014           0.0    98146  47.5107 -122.362   \n",
              "21594            0.0     2009           0.0    98144  47.5944 -122.299   \n",
              "21595            0.0     2004           0.0    98027  47.5345 -122.069   \n",
              "21596            0.0     2008           0.0    98144  47.5941 -122.299   \n",
              "\n",
              "       sqft_living15  sqft_lot15  \n",
              "21592           1530        1509  \n",
              "21593           1830        7200  \n",
              "21594           1020        2007  \n",
              "21595           1410        1287  \n",
              "21596           1020        1357  \n",
              "\n",
              "[5 rows x 21 columns]"
            ],
            "text/html": [
              "\n",
              "  <div id=\"df-4962bec8-9b55-40d7-8625-7cc399921cfb\">\n",
              "    <div class=\"colab-df-container\">\n",
              "      <div>\n",
              "<style scoped>\n",
              "    .dataframe tbody tr th:only-of-type {\n",
              "        vertical-align: middle;\n",
              "    }\n",
              "\n",
              "    .dataframe tbody tr th {\n",
              "        vertical-align: top;\n",
              "    }\n",
              "\n",
              "    .dataframe thead th {\n",
              "        text-align: right;\n",
              "    }\n",
              "</style>\n",
              "<table border=\"1\" class=\"dataframe\">\n",
              "  <thead>\n",
              "    <tr style=\"text-align: right;\">\n",
              "      <th></th>\n",
              "      <th>id</th>\n",
              "      <th>date</th>\n",
              "      <th>price</th>\n",
              "      <th>bedrooms</th>\n",
              "      <th>bathrooms</th>\n",
              "      <th>sqft_living</th>\n",
              "      <th>sqft_lot</th>\n",
              "      <th>floors</th>\n",
              "      <th>waterfront</th>\n",
              "      <th>view</th>\n",
              "      <th>...</th>\n",
              "      <th>grade</th>\n",
              "      <th>sqft_above</th>\n",
              "      <th>sqft_basement</th>\n",
              "      <th>yr_built</th>\n",
              "      <th>yr_renovated</th>\n",
              "      <th>zipcode</th>\n",
              "      <th>lat</th>\n",
              "      <th>long</th>\n",
              "      <th>sqft_living15</th>\n",
              "      <th>sqft_lot15</th>\n",
              "    </tr>\n",
              "  </thead>\n",
              "  <tbody>\n",
              "    <tr>\n",
              "      <th>21592</th>\n",
              "      <td>263000018</td>\n",
              "      <td>5/21/2014</td>\n",
              "      <td>360000.0</td>\n",
              "      <td>3</td>\n",
              "      <td>2.50</td>\n",
              "      <td>1530</td>\n",
              "      <td>1131</td>\n",
              "      <td>3.0</td>\n",
              "      <td>NO</td>\n",
              "      <td>NONE</td>\n",
              "      <td>...</td>\n",
              "      <td>8 Good</td>\n",
              "      <td>1530</td>\n",
              "      <td>0.0</td>\n",
              "      <td>2009</td>\n",
              "      <td>0.0</td>\n",
              "      <td>98103</td>\n",
              "      <td>47.6993</td>\n",
              "      <td>-122.346</td>\n",
              "      <td>1530</td>\n",
              "      <td>1509</td>\n",
              "    </tr>\n",
              "    <tr>\n",
              "      <th>21593</th>\n",
              "      <td>6600060120</td>\n",
              "      <td>2/23/2015</td>\n",
              "      <td>400000.0</td>\n",
              "      <td>4</td>\n",
              "      <td>2.50</td>\n",
              "      <td>2310</td>\n",
              "      <td>5813</td>\n",
              "      <td>2.0</td>\n",
              "      <td>NO</td>\n",
              "      <td>NONE</td>\n",
              "      <td>...</td>\n",
              "      <td>8 Good</td>\n",
              "      <td>2310</td>\n",
              "      <td>0.0</td>\n",
              "      <td>2014</td>\n",
              "      <td>0.0</td>\n",
              "      <td>98146</td>\n",
              "      <td>47.5107</td>\n",
              "      <td>-122.362</td>\n",
              "      <td>1830</td>\n",
              "      <td>7200</td>\n",
              "    </tr>\n",
              "    <tr>\n",
              "      <th>21594</th>\n",
              "      <td>1523300141</td>\n",
              "      <td>6/23/2014</td>\n",
              "      <td>402101.0</td>\n",
              "      <td>2</td>\n",
              "      <td>0.75</td>\n",
              "      <td>1020</td>\n",
              "      <td>1350</td>\n",
              "      <td>2.0</td>\n",
              "      <td>NO</td>\n",
              "      <td>NONE</td>\n",
              "      <td>...</td>\n",
              "      <td>7 Average</td>\n",
              "      <td>1020</td>\n",
              "      <td>0.0</td>\n",
              "      <td>2009</td>\n",
              "      <td>0.0</td>\n",
              "      <td>98144</td>\n",
              "      <td>47.5944</td>\n",
              "      <td>-122.299</td>\n",
              "      <td>1020</td>\n",
              "      <td>2007</td>\n",
              "    </tr>\n",
              "    <tr>\n",
              "      <th>21595</th>\n",
              "      <td>291310100</td>\n",
              "      <td>1/16/2015</td>\n",
              "      <td>400000.0</td>\n",
              "      <td>3</td>\n",
              "      <td>2.50</td>\n",
              "      <td>1600</td>\n",
              "      <td>2388</td>\n",
              "      <td>2.0</td>\n",
              "      <td>NaN</td>\n",
              "      <td>NONE</td>\n",
              "      <td>...</td>\n",
              "      <td>8 Good</td>\n",
              "      <td>1600</td>\n",
              "      <td>0.0</td>\n",
              "      <td>2004</td>\n",
              "      <td>0.0</td>\n",
              "      <td>98027</td>\n",
              "      <td>47.5345</td>\n",
              "      <td>-122.069</td>\n",
              "      <td>1410</td>\n",
              "      <td>1287</td>\n",
              "    </tr>\n",
              "    <tr>\n",
              "      <th>21596</th>\n",
              "      <td>1523300157</td>\n",
              "      <td>10/15/2014</td>\n",
              "      <td>325000.0</td>\n",
              "      <td>2</td>\n",
              "      <td>0.75</td>\n",
              "      <td>1020</td>\n",
              "      <td>1076</td>\n",
              "      <td>2.0</td>\n",
              "      <td>NO</td>\n",
              "      <td>NONE</td>\n",
              "      <td>...</td>\n",
              "      <td>7 Average</td>\n",
              "      <td>1020</td>\n",
              "      <td>0.0</td>\n",
              "      <td>2008</td>\n",
              "      <td>0.0</td>\n",
              "      <td>98144</td>\n",
              "      <td>47.5941</td>\n",
              "      <td>-122.299</td>\n",
              "      <td>1020</td>\n",
              "      <td>1357</td>\n",
              "    </tr>\n",
              "  </tbody>\n",
              "</table>\n",
              "<p>5 rows × 21 columns</p>\n",
              "</div>\n",
              "      <button class=\"colab-df-convert\" onclick=\"convertToInteractive('df-4962bec8-9b55-40d7-8625-7cc399921cfb')\"\n",
              "              title=\"Convert this dataframe to an interactive table.\"\n",
              "              style=\"display:none;\">\n",
              "        \n",
              "  <svg xmlns=\"http://www.w3.org/2000/svg\" height=\"24px\"viewBox=\"0 0 24 24\"\n",
              "       width=\"24px\">\n",
              "    <path d=\"M0 0h24v24H0V0z\" fill=\"none\"/>\n",
              "    <path d=\"M18.56 5.44l.94 2.06.94-2.06 2.06-.94-2.06-.94-.94-2.06-.94 2.06-2.06.94zm-11 1L8.5 8.5l.94-2.06 2.06-.94-2.06-.94L8.5 2.5l-.94 2.06-2.06.94zm10 10l.94 2.06.94-2.06 2.06-.94-2.06-.94-.94-2.06-.94 2.06-2.06.94z\"/><path d=\"M17.41 7.96l-1.37-1.37c-.4-.4-.92-.59-1.43-.59-.52 0-1.04.2-1.43.59L10.3 9.45l-7.72 7.72c-.78.78-.78 2.05 0 2.83L4 21.41c.39.39.9.59 1.41.59.51 0 1.02-.2 1.41-.59l7.78-7.78 2.81-2.81c.8-.78.8-2.07 0-2.86zM5.41 20L4 18.59l7.72-7.72 1.47 1.35L5.41 20z\"/>\n",
              "  </svg>\n",
              "      </button>\n",
              "      \n",
              "  <style>\n",
              "    .colab-df-container {\n",
              "      display:flex;\n",
              "      flex-wrap:wrap;\n",
              "      gap: 12px;\n",
              "    }\n",
              "\n",
              "    .colab-df-convert {\n",
              "      background-color: #E8F0FE;\n",
              "      border: none;\n",
              "      border-radius: 50%;\n",
              "      cursor: pointer;\n",
              "      display: none;\n",
              "      fill: #1967D2;\n",
              "      height: 32px;\n",
              "      padding: 0 0 0 0;\n",
              "      width: 32px;\n",
              "    }\n",
              "\n",
              "    .colab-df-convert:hover {\n",
              "      background-color: #E2EBFA;\n",
              "      box-shadow: 0px 1px 2px rgba(60, 64, 67, 0.3), 0px 1px 3px 1px rgba(60, 64, 67, 0.15);\n",
              "      fill: #174EA6;\n",
              "    }\n",
              "\n",
              "    [theme=dark] .colab-df-convert {\n",
              "      background-color: #3B4455;\n",
              "      fill: #D2E3FC;\n",
              "    }\n",
              "\n",
              "    [theme=dark] .colab-df-convert:hover {\n",
              "      background-color: #434B5C;\n",
              "      box-shadow: 0px 1px 3px 1px rgba(0, 0, 0, 0.15);\n",
              "      filter: drop-shadow(0px 1px 2px rgba(0, 0, 0, 0.3));\n",
              "      fill: #FFFFFF;\n",
              "    }\n",
              "  </style>\n",
              "\n",
              "      <script>\n",
              "        const buttonEl =\n",
              "          document.querySelector('#df-4962bec8-9b55-40d7-8625-7cc399921cfb button.colab-df-convert');\n",
              "        buttonEl.style.display =\n",
              "          google.colab.kernel.accessAllowed ? 'block' : 'none';\n",
              "\n",
              "        async function convertToInteractive(key) {\n",
              "          const element = document.querySelector('#df-4962bec8-9b55-40d7-8625-7cc399921cfb');\n",
              "          const dataTable =\n",
              "            await google.colab.kernel.invokeFunction('convertToInteractive',\n",
              "                                                     [key], {});\n",
              "          if (!dataTable) return;\n",
              "\n",
              "          const docLinkHtml = 'Like what you see? Visit the ' +\n",
              "            '<a target=\"_blank\" href=https://colab.research.google.com/notebooks/data_table.ipynb>data table notebook</a>'\n",
              "            + ' to learn more about interactive tables.';\n",
              "          element.innerHTML = '';\n",
              "          dataTable['output_type'] = 'display_data';\n",
              "          await google.colab.output.renderOutput(dataTable, element);\n",
              "          const docLink = document.createElement('div');\n",
              "          docLink.innerHTML = docLinkHtml;\n",
              "          element.appendChild(docLink);\n",
              "        }\n",
              "      </script>\n",
              "    </div>\n",
              "  </div>\n",
              "  "
            ]
          },
          "metadata": {},
          "execution_count": 3
        }
      ]
    },
    {
      "cell_type": "code",
      "execution_count": 4,
      "metadata": {
        "id": "IvObAEDOYfMW"
      },
      "outputs": [],
      "source": [
        "# Your code here - remember to use markdown cells for comments as well!"
      ]
    },
    {
      "cell_type": "code",
      "execution_count": 5,
      "metadata": {
        "colab": {
          "base_uri": "https://localhost:8080/"
        },
        "id": "XJlPElqeYfMY",
        "outputId": "dec2c043-11f1-4072-8219-907a7d849ddd"
      },
      "outputs": [
        {
          "output_type": "execute_result",
          "data": {
            "text/plain": [
              "Index(['id', 'date', 'price', 'bedrooms', 'bathrooms', 'sqft_living',\n",
              "       'sqft_lot', 'floors', 'waterfront', 'view', 'condition', 'grade',\n",
              "       'sqft_above', 'sqft_basement', 'yr_built', 'yr_renovated', 'zipcode',\n",
              "       'lat', 'long', 'sqft_living15', 'sqft_lot15'],\n",
              "      dtype='object')"
            ]
          },
          "metadata": {},
          "execution_count": 5
        }
      ],
      "source": [
        "df.columns"
      ]
    },
    {
      "cell_type": "code",
      "execution_count": 6,
      "metadata": {
        "colab": {
          "base_uri": "https://localhost:8080/"
        },
        "id": "ImfKNTAYYfMZ",
        "outputId": "23df284d-7cb2-43ed-b1d4-7ad743241325"
      },
      "outputs": [
        {
          "output_type": "stream",
          "name": "stdout",
          "text": [
            "<class 'pandas.core.frame.DataFrame'>\n",
            "RangeIndex: 21597 entries, 0 to 21596\n",
            "Data columns (total 21 columns):\n",
            " #   Column         Non-Null Count  Dtype  \n",
            "---  ------         --------------  -----  \n",
            " 0   id             21597 non-null  int64  \n",
            " 1   date           21597 non-null  object \n",
            " 2   price          21597 non-null  float64\n",
            " 3   bedrooms       21597 non-null  int64  \n",
            " 4   bathrooms      21597 non-null  float64\n",
            " 5   sqft_living    21597 non-null  int64  \n",
            " 6   sqft_lot       21597 non-null  int64  \n",
            " 7   floors         21597 non-null  float64\n",
            " 8   waterfront     19221 non-null  object \n",
            " 9   view           21534 non-null  object \n",
            " 10  condition      21597 non-null  object \n",
            " 11  grade          21597 non-null  object \n",
            " 12  sqft_above     21597 non-null  int64  \n",
            " 13  sqft_basement  21597 non-null  object \n",
            " 14  yr_built       21597 non-null  int64  \n",
            " 15  yr_renovated   17755 non-null  float64\n",
            " 16  zipcode        21597 non-null  int64  \n",
            " 17  lat            21597 non-null  float64\n",
            " 18  long           21597 non-null  float64\n",
            " 19  sqft_living15  21597 non-null  int64  \n",
            " 20  sqft_lot15     21597 non-null  int64  \n",
            "dtypes: float64(6), int64(9), object(6)\n",
            "memory usage: 3.5+ MB\n"
          ]
        }
      ],
      "source": [
        "df.info()"
      ]
    },
    {
      "cell_type": "code",
      "execution_count": 7,
      "metadata": {
        "colab": {
          "base_uri": "https://localhost:8080/"
        },
        "id": "Abl-myGdYfMa",
        "outputId": "d82a73d2-bcee-4f36-a38c-17add8230806"
      },
      "outputs": [
        {
          "output_type": "execute_result",
          "data": {
            "text/plain": [
              "(21597, 21)"
            ]
          },
          "metadata": {},
          "execution_count": 7
        }
      ],
      "source": [
        "df.shape"
      ]
    },
    {
      "cell_type": "code",
      "execution_count": 8,
      "metadata": {
        "colab": {
          "base_uri": "https://localhost:8080/",
          "height": 364
        },
        "id": "S2ivUk2ZYfMc",
        "outputId": "f4b98e36-1561-4be5-8121-7a137ae8474b"
      },
      "outputs": [
        {
          "output_type": "execute_result",
          "data": {
            "text/plain": [
              "                 id         price      bedrooms     bathrooms   sqft_living  \\\n",
              "count  2.159700e+04  2.159700e+04  21597.000000  21597.000000  21597.000000   \n",
              "mean   4.580474e+09  5.402966e+05      3.373200      2.115826   2080.321850   \n",
              "std    2.876736e+09  3.673681e+05      0.926299      0.768984    918.106125   \n",
              "min    1.000102e+06  7.800000e+04      1.000000      0.500000    370.000000   \n",
              "25%    2.123049e+09  3.220000e+05      3.000000      1.750000   1430.000000   \n",
              "50%    3.904930e+09  4.500000e+05      3.000000      2.250000   1910.000000   \n",
              "75%    7.308900e+09  6.450000e+05      4.000000      2.500000   2550.000000   \n",
              "max    9.900000e+09  7.700000e+06     33.000000      8.000000  13540.000000   \n",
              "\n",
              "           sqft_lot        floors    sqft_above      yr_built  yr_renovated  \\\n",
              "count  2.159700e+04  21597.000000  21597.000000  21597.000000  17755.000000   \n",
              "mean   1.509941e+04      1.494096   1788.596842   1970.999676     83.636778   \n",
              "std    4.141264e+04      0.539683    827.759761     29.375234    399.946414   \n",
              "min    5.200000e+02      1.000000    370.000000   1900.000000      0.000000   \n",
              "25%    5.040000e+03      1.000000   1190.000000   1951.000000      0.000000   \n",
              "50%    7.618000e+03      1.500000   1560.000000   1975.000000      0.000000   \n",
              "75%    1.068500e+04      2.000000   2210.000000   1997.000000      0.000000   \n",
              "max    1.651359e+06      3.500000   9410.000000   2015.000000   2015.000000   \n",
              "\n",
              "            zipcode           lat          long  sqft_living15     sqft_lot15  \n",
              "count  21597.000000  21597.000000  21597.000000   21597.000000   21597.000000  \n",
              "mean   98077.951845     47.560093   -122.213982    1986.620318   12758.283512  \n",
              "std       53.513072      0.138552      0.140724     685.230472   27274.441950  \n",
              "min    98001.000000     47.155900   -122.519000     399.000000     651.000000  \n",
              "25%    98033.000000     47.471100   -122.328000    1490.000000    5100.000000  \n",
              "50%    98065.000000     47.571800   -122.231000    1840.000000    7620.000000  \n",
              "75%    98118.000000     47.678000   -122.125000    2360.000000   10083.000000  \n",
              "max    98199.000000     47.777600   -121.315000    6210.000000  871200.000000  "
            ],
            "text/html": [
              "\n",
              "  <div id=\"df-6ad7b2fd-ea85-40fc-9b1d-d9f21a90d446\">\n",
              "    <div class=\"colab-df-container\">\n",
              "      <div>\n",
              "<style scoped>\n",
              "    .dataframe tbody tr th:only-of-type {\n",
              "        vertical-align: middle;\n",
              "    }\n",
              "\n",
              "    .dataframe tbody tr th {\n",
              "        vertical-align: top;\n",
              "    }\n",
              "\n",
              "    .dataframe thead th {\n",
              "        text-align: right;\n",
              "    }\n",
              "</style>\n",
              "<table border=\"1\" class=\"dataframe\">\n",
              "  <thead>\n",
              "    <tr style=\"text-align: right;\">\n",
              "      <th></th>\n",
              "      <th>id</th>\n",
              "      <th>price</th>\n",
              "      <th>bedrooms</th>\n",
              "      <th>bathrooms</th>\n",
              "      <th>sqft_living</th>\n",
              "      <th>sqft_lot</th>\n",
              "      <th>floors</th>\n",
              "      <th>sqft_above</th>\n",
              "      <th>yr_built</th>\n",
              "      <th>yr_renovated</th>\n",
              "      <th>zipcode</th>\n",
              "      <th>lat</th>\n",
              "      <th>long</th>\n",
              "      <th>sqft_living15</th>\n",
              "      <th>sqft_lot15</th>\n",
              "    </tr>\n",
              "  </thead>\n",
              "  <tbody>\n",
              "    <tr>\n",
              "      <th>count</th>\n",
              "      <td>2.159700e+04</td>\n",
              "      <td>2.159700e+04</td>\n",
              "      <td>21597.000000</td>\n",
              "      <td>21597.000000</td>\n",
              "      <td>21597.000000</td>\n",
              "      <td>2.159700e+04</td>\n",
              "      <td>21597.000000</td>\n",
              "      <td>21597.000000</td>\n",
              "      <td>21597.000000</td>\n",
              "      <td>17755.000000</td>\n",
              "      <td>21597.000000</td>\n",
              "      <td>21597.000000</td>\n",
              "      <td>21597.000000</td>\n",
              "      <td>21597.000000</td>\n",
              "      <td>21597.000000</td>\n",
              "    </tr>\n",
              "    <tr>\n",
              "      <th>mean</th>\n",
              "      <td>4.580474e+09</td>\n",
              "      <td>5.402966e+05</td>\n",
              "      <td>3.373200</td>\n",
              "      <td>2.115826</td>\n",
              "      <td>2080.321850</td>\n",
              "      <td>1.509941e+04</td>\n",
              "      <td>1.494096</td>\n",
              "      <td>1788.596842</td>\n",
              "      <td>1970.999676</td>\n",
              "      <td>83.636778</td>\n",
              "      <td>98077.951845</td>\n",
              "      <td>47.560093</td>\n",
              "      <td>-122.213982</td>\n",
              "      <td>1986.620318</td>\n",
              "      <td>12758.283512</td>\n",
              "    </tr>\n",
              "    <tr>\n",
              "      <th>std</th>\n",
              "      <td>2.876736e+09</td>\n",
              "      <td>3.673681e+05</td>\n",
              "      <td>0.926299</td>\n",
              "      <td>0.768984</td>\n",
              "      <td>918.106125</td>\n",
              "      <td>4.141264e+04</td>\n",
              "      <td>0.539683</td>\n",
              "      <td>827.759761</td>\n",
              "      <td>29.375234</td>\n",
              "      <td>399.946414</td>\n",
              "      <td>53.513072</td>\n",
              "      <td>0.138552</td>\n",
              "      <td>0.140724</td>\n",
              "      <td>685.230472</td>\n",
              "      <td>27274.441950</td>\n",
              "    </tr>\n",
              "    <tr>\n",
              "      <th>min</th>\n",
              "      <td>1.000102e+06</td>\n",
              "      <td>7.800000e+04</td>\n",
              "      <td>1.000000</td>\n",
              "      <td>0.500000</td>\n",
              "      <td>370.000000</td>\n",
              "      <td>5.200000e+02</td>\n",
              "      <td>1.000000</td>\n",
              "      <td>370.000000</td>\n",
              "      <td>1900.000000</td>\n",
              "      <td>0.000000</td>\n",
              "      <td>98001.000000</td>\n",
              "      <td>47.155900</td>\n",
              "      <td>-122.519000</td>\n",
              "      <td>399.000000</td>\n",
              "      <td>651.000000</td>\n",
              "    </tr>\n",
              "    <tr>\n",
              "      <th>25%</th>\n",
              "      <td>2.123049e+09</td>\n",
              "      <td>3.220000e+05</td>\n",
              "      <td>3.000000</td>\n",
              "      <td>1.750000</td>\n",
              "      <td>1430.000000</td>\n",
              "      <td>5.040000e+03</td>\n",
              "      <td>1.000000</td>\n",
              "      <td>1190.000000</td>\n",
              "      <td>1951.000000</td>\n",
              "      <td>0.000000</td>\n",
              "      <td>98033.000000</td>\n",
              "      <td>47.471100</td>\n",
              "      <td>-122.328000</td>\n",
              "      <td>1490.000000</td>\n",
              "      <td>5100.000000</td>\n",
              "    </tr>\n",
              "    <tr>\n",
              "      <th>50%</th>\n",
              "      <td>3.904930e+09</td>\n",
              "      <td>4.500000e+05</td>\n",
              "      <td>3.000000</td>\n",
              "      <td>2.250000</td>\n",
              "      <td>1910.000000</td>\n",
              "      <td>7.618000e+03</td>\n",
              "      <td>1.500000</td>\n",
              "      <td>1560.000000</td>\n",
              "      <td>1975.000000</td>\n",
              "      <td>0.000000</td>\n",
              "      <td>98065.000000</td>\n",
              "      <td>47.571800</td>\n",
              "      <td>-122.231000</td>\n",
              "      <td>1840.000000</td>\n",
              "      <td>7620.000000</td>\n",
              "    </tr>\n",
              "    <tr>\n",
              "      <th>75%</th>\n",
              "      <td>7.308900e+09</td>\n",
              "      <td>6.450000e+05</td>\n",
              "      <td>4.000000</td>\n",
              "      <td>2.500000</td>\n",
              "      <td>2550.000000</td>\n",
              "      <td>1.068500e+04</td>\n",
              "      <td>2.000000</td>\n",
              "      <td>2210.000000</td>\n",
              "      <td>1997.000000</td>\n",
              "      <td>0.000000</td>\n",
              "      <td>98118.000000</td>\n",
              "      <td>47.678000</td>\n",
              "      <td>-122.125000</td>\n",
              "      <td>2360.000000</td>\n",
              "      <td>10083.000000</td>\n",
              "    </tr>\n",
              "    <tr>\n",
              "      <th>max</th>\n",
              "      <td>9.900000e+09</td>\n",
              "      <td>7.700000e+06</td>\n",
              "      <td>33.000000</td>\n",
              "      <td>8.000000</td>\n",
              "      <td>13540.000000</td>\n",
              "      <td>1.651359e+06</td>\n",
              "      <td>3.500000</td>\n",
              "      <td>9410.000000</td>\n",
              "      <td>2015.000000</td>\n",
              "      <td>2015.000000</td>\n",
              "      <td>98199.000000</td>\n",
              "      <td>47.777600</td>\n",
              "      <td>-121.315000</td>\n",
              "      <td>6210.000000</td>\n",
              "      <td>871200.000000</td>\n",
              "    </tr>\n",
              "  </tbody>\n",
              "</table>\n",
              "</div>\n",
              "      <button class=\"colab-df-convert\" onclick=\"convertToInteractive('df-6ad7b2fd-ea85-40fc-9b1d-d9f21a90d446')\"\n",
              "              title=\"Convert this dataframe to an interactive table.\"\n",
              "              style=\"display:none;\">\n",
              "        \n",
              "  <svg xmlns=\"http://www.w3.org/2000/svg\" height=\"24px\"viewBox=\"0 0 24 24\"\n",
              "       width=\"24px\">\n",
              "    <path d=\"M0 0h24v24H0V0z\" fill=\"none\"/>\n",
              "    <path d=\"M18.56 5.44l.94 2.06.94-2.06 2.06-.94-2.06-.94-.94-2.06-.94 2.06-2.06.94zm-11 1L8.5 8.5l.94-2.06 2.06-.94-2.06-.94L8.5 2.5l-.94 2.06-2.06.94zm10 10l.94 2.06.94-2.06 2.06-.94-2.06-.94-.94-2.06-.94 2.06-2.06.94z\"/><path d=\"M17.41 7.96l-1.37-1.37c-.4-.4-.92-.59-1.43-.59-.52 0-1.04.2-1.43.59L10.3 9.45l-7.72 7.72c-.78.78-.78 2.05 0 2.83L4 21.41c.39.39.9.59 1.41.59.51 0 1.02-.2 1.41-.59l7.78-7.78 2.81-2.81c.8-.78.8-2.07 0-2.86zM5.41 20L4 18.59l7.72-7.72 1.47 1.35L5.41 20z\"/>\n",
              "  </svg>\n",
              "      </button>\n",
              "      \n",
              "  <style>\n",
              "    .colab-df-container {\n",
              "      display:flex;\n",
              "      flex-wrap:wrap;\n",
              "      gap: 12px;\n",
              "    }\n",
              "\n",
              "    .colab-df-convert {\n",
              "      background-color: #E8F0FE;\n",
              "      border: none;\n",
              "      border-radius: 50%;\n",
              "      cursor: pointer;\n",
              "      display: none;\n",
              "      fill: #1967D2;\n",
              "      height: 32px;\n",
              "      padding: 0 0 0 0;\n",
              "      width: 32px;\n",
              "    }\n",
              "\n",
              "    .colab-df-convert:hover {\n",
              "      background-color: #E2EBFA;\n",
              "      box-shadow: 0px 1px 2px rgba(60, 64, 67, 0.3), 0px 1px 3px 1px rgba(60, 64, 67, 0.15);\n",
              "      fill: #174EA6;\n",
              "    }\n",
              "\n",
              "    [theme=dark] .colab-df-convert {\n",
              "      background-color: #3B4455;\n",
              "      fill: #D2E3FC;\n",
              "    }\n",
              "\n",
              "    [theme=dark] .colab-df-convert:hover {\n",
              "      background-color: #434B5C;\n",
              "      box-shadow: 0px 1px 3px 1px rgba(0, 0, 0, 0.15);\n",
              "      filter: drop-shadow(0px 1px 2px rgba(0, 0, 0, 0.3));\n",
              "      fill: #FFFFFF;\n",
              "    }\n",
              "  </style>\n",
              "\n",
              "      <script>\n",
              "        const buttonEl =\n",
              "          document.querySelector('#df-6ad7b2fd-ea85-40fc-9b1d-d9f21a90d446 button.colab-df-convert');\n",
              "        buttonEl.style.display =\n",
              "          google.colab.kernel.accessAllowed ? 'block' : 'none';\n",
              "\n",
              "        async function convertToInteractive(key) {\n",
              "          const element = document.querySelector('#df-6ad7b2fd-ea85-40fc-9b1d-d9f21a90d446');\n",
              "          const dataTable =\n",
              "            await google.colab.kernel.invokeFunction('convertToInteractive',\n",
              "                                                     [key], {});\n",
              "          if (!dataTable) return;\n",
              "\n",
              "          const docLinkHtml = 'Like what you see? Visit the ' +\n",
              "            '<a target=\"_blank\" href=https://colab.research.google.com/notebooks/data_table.ipynb>data table notebook</a>'\n",
              "            + ' to learn more about interactive tables.';\n",
              "          element.innerHTML = '';\n",
              "          dataTable['output_type'] = 'display_data';\n",
              "          await google.colab.output.renderOutput(dataTable, element);\n",
              "          const docLink = document.createElement('div');\n",
              "          docLink.innerHTML = docLinkHtml;\n",
              "          element.appendChild(docLink);\n",
              "        }\n",
              "      </script>\n",
              "    </div>\n",
              "  </div>\n",
              "  "
            ]
          },
          "metadata": {},
          "execution_count": 8
        }
      ],
      "source": [
        "df.describe()"
      ]
    },
    {
      "cell_type": "code",
      "execution_count": 9,
      "metadata": {
        "colab": {
          "base_uri": "https://localhost:8080/"
        },
        "id": "wRXGdg3uYfMe",
        "outputId": "ff0920e2-35ba-4428-e585-b4bce445d752"
      },
      "outputs": [
        {
          "output_type": "execute_result",
          "data": {
            "text/plain": [
              "id                  0\n",
              "date                0\n",
              "price               0\n",
              "bedrooms            0\n",
              "bathrooms           0\n",
              "sqft_living         0\n",
              "sqft_lot            0\n",
              "floors              0\n",
              "waterfront       2376\n",
              "view               63\n",
              "condition           0\n",
              "grade               0\n",
              "sqft_above          0\n",
              "sqft_basement       0\n",
              "yr_built            0\n",
              "yr_renovated     3842\n",
              "zipcode             0\n",
              "lat                 0\n",
              "long                0\n",
              "sqft_living15       0\n",
              "sqft_lot15          0\n",
              "dtype: int64"
            ]
          },
          "metadata": {},
          "execution_count": 9
        }
      ],
      "source": [
        "\n",
        "df.isnull().sum()"
      ]
    },
    {
      "cell_type": "code",
      "source": [
        "# Handling missing values (filling numerical values  with median)\n",
        "df['yr_renovated'].fillna(df['yr_renovated'].median(), inplace=True)\n",
        "\n",
        "#Drop rows with missing values in important columns containing non-numeric values\n",
        "df.dropna(subset=['waterfront', 'view'], inplace = True)"
      ],
      "metadata": {
        "id": "UhnL2Yde2fe0"
      },
      "execution_count": 10,
      "outputs": []
    },
    {
      "cell_type": "code",
      "source": [
        "# Check for missing values\n",
        "missing_values = df.isnull().sum()\n",
        "print(missing_values[missing_values > 0])"
      ],
      "metadata": {
        "colab": {
          "base_uri": "https://localhost:8080/"
        },
        "outputId": "5540bcc6-aa84-4908-e4e9-fb9f5d39c44d",
        "id": "th6F1TTUIMCs"
      },
      "execution_count": 11,
      "outputs": [
        {
          "output_type": "stream",
          "name": "stdout",
          "text": [
            "Series([], dtype: int64)\n"
          ]
        }
      ]
    },
    {
      "cell_type": "code",
      "execution_count": 12,
      "metadata": {
        "colab": {
          "base_uri": "https://localhost:8080/"
        },
        "id": "Ri1J4gkGYfMg",
        "outputId": "0f7a3686-c2ac-423c-df90-f11d9b229e5f"
      },
      "outputs": [
        {
          "output_type": "stream",
          "name": "stdout",
          "text": [
            "Unique bedroom Values:\n",
            "[ 3  2  4  5  1  6  7  8  9 11 10 33]\n",
            "\n",
            "Value Counts:\n",
            "3     8691\n",
            "4     6133\n",
            "2     2446\n",
            "5     1437\n",
            "6      225\n",
            "1      175\n",
            "7       35\n",
            "8       11\n",
            "9        6\n",
            "10       3\n",
            "11       1\n",
            "33       1\n",
            "Name: bedrooms, dtype: int64\n"
          ]
        }
      ],
      "source": [
        "bedrooms_column = df['bedrooms']\n",
        "print(\"Unique bedroom Values:\")\n",
        "print(bedrooms_column.unique())\n",
        "print(\"\\nValue Counts:\")\n",
        "print(bedrooms_column.value_counts())    "
      ]
    },
    {
      "cell_type": "code",
      "execution_count": 13,
      "metadata": {
        "colab": {
          "base_uri": "https://localhost:8080/"
        },
        "id": "gSavIBbMYfMi",
        "outputId": "ccdfa66d-0841-4d93-918c-2236d550174f"
      },
      "outputs": [
        {
          "output_type": "stream",
          "name": "stdout",
          "text": [
            "Unique price Values:\n",
            "[ 538000.  180000.  604000. ... 3570000.  594866.  402101.]\n",
            "\n",
            "Value Counts:\n",
            "450000.0    152\n",
            "350000.0    146\n",
            "550000.0    144\n",
            "500000.0    142\n",
            "425000.0    135\n",
            "           ... \n",
            "787000.0      1\n",
            "280400.0      1\n",
            "118000.0      1\n",
            "258305.0      1\n",
            "402101.0      1\n",
            "Name: price, Length: 3382, dtype: int64\n"
          ]
        }
      ],
      "source": [
        "price_column = df['price']\n",
        "print(\"Unique price Values:\")\n",
        "print(price_column.unique())\n",
        "print(\"\\nValue Counts:\")\n",
        "print(price_column.value_counts())"
      ]
    },
    {
      "cell_type": "code",
      "execution_count": 14,
      "metadata": {
        "colab": {
          "base_uri": "https://localhost:8080/"
        },
        "id": "Qj_WYWl-YfMj",
        "outputId": "aad9b9a8-99fa-4996-ede6-df542dac1682"
      },
      "outputs": [
        {
          "output_type": "stream",
          "name": "stdout",
          "text": [
            "Unique bathrooms Values:\n",
            "[2.25 1.   3.   2.   4.5  2.5  1.75 2.75 1.5  3.25 4.   3.5  0.75 4.75\n",
            " 5.   4.25 3.75 1.25 5.25 0.5  5.5  6.75 6.   5.75 8.   7.5  7.75 6.25\n",
            " 6.5 ]\n",
            "\n",
            "Value Counts:\n",
            "2.50    4828\n",
            "1.00    3402\n",
            "1.75    2713\n",
            "2.25    1779\n",
            "2.00    1718\n",
            "1.50    1279\n",
            "2.75    1038\n",
            "3.00     661\n",
            "3.50     655\n",
            "3.25     517\n",
            "3.75     136\n",
            "4.00     121\n",
            "4.50      91\n",
            "4.25      72\n",
            "0.75      65\n",
            "4.75      22\n",
            "5.00      17\n",
            "5.25      11\n",
            "5.50      10\n",
            "1.25       8\n",
            "6.00       5\n",
            "0.50       4\n",
            "5.75       3\n",
            "6.75       2\n",
            "8.00       2\n",
            "6.25       2\n",
            "7.50       1\n",
            "7.75       1\n",
            "6.50       1\n",
            "Name: bathrooms, dtype: int64\n"
          ]
        }
      ],
      "source": [
        "bathrooms_column = df['bathrooms']\n",
        "print(\"Unique bathrooms Values:\")\n",
        "print(bathrooms_column.unique())\n",
        "print(\"\\nValue Counts:\")\n",
        "print(bathrooms_column.value_counts())"
      ]
    },
    {
      "cell_type": "code",
      "execution_count": 15,
      "metadata": {
        "colab": {
          "base_uri": "https://localhost:8080/"
        },
        "id": "6E5JjHcdYfMk",
        "outputId": "ce703ee6-4c37-4ffb-e893-aad574a65b95"
      },
      "outputs": [
        {
          "output_type": "stream",
          "name": "stdout",
          "text": [
            "Unique floors Values:\n",
            "[2.  1.  1.5 3.  2.5 3.5]\n",
            "\n",
            "Value Counts:\n",
            "1.0    9464\n",
            "2.0    7329\n",
            "1.5    1675\n",
            "3.0     546\n",
            "2.5     144\n",
            "3.5       6\n",
            "Name: floors, dtype: int64\n"
          ]
        }
      ],
      "source": [
        "floors_column = df['floors']\n",
        "print(\"Unique floors Values:\")\n",
        "print(floors_column.unique())\n",
        "print(\"\\nValue Counts:\")\n",
        "print(floors_column.value_counts())"
      ]
    },
    {
      "cell_type": "code",
      "execution_count": 16,
      "metadata": {
        "colab": {
          "base_uri": "https://localhost:8080/"
        },
        "id": "NfSpdMqPYfMl",
        "outputId": "9f7853d3-528b-4b0e-91b2-e157cc53a724"
      },
      "outputs": [
        {
          "output_type": "stream",
          "name": "stdout",
          "text": [
            "Unique sqft_living Values:\n",
            "[ 2570   770  1960  1680  5420  1715  1780  1890  1160  1430  1370  1810\n",
            "  2950  1600  1200  1250  1620  3050  2270  2450  1710  1400  1520  2320\n",
            "  1190  2330  1090  2060  2300  1660  2360  1220  2620  4220  3595  1570\n",
            "  1280  3160   990  2290  2753  3150  1410  1980  2730  2250  2420  3250\n",
            "  1850  1260  1540  2770  2240  1000  3200  4770  2750  2380  1790  3430\n",
            "  1760  1040  3450  2350  1900  2020   960  2140  2660  1610  1030  3520\n",
            "  1580  3300  2070  2190  2920  1210  1670  1240  3140  2030  2310  2080\n",
            "  4380  1590   880  2400  1450  2910  2160  1060  2010  3950  1320  2590\n",
            "  1170  1110  2820  3670  2550  2260  1360  5180   700  1180  3960  2640\n",
            "  1270  3400  1910  1340  2680  1560  3880  1120  1970  1950  1050  3130\n",
            "  4090  1490  2230  1650  2180  1690  1350  1940  1010  1300   910  2440\n",
            "   900  2714  1720   850  3900  2760  1750  2220  1480  2280  2940  2480\n",
            "  3760  3830  4410   830  2740  3650   720  3360  1510  1730  1420  1230\n",
            "  2100   760  1700  1070  5050  5310  1080  2653  3820  2210  2390  2600\n",
            "   860  3500  2720  2500  2900  1640  3280  4550  2040  2200  1920  1800\n",
            "  2370  4290  1930  1470   800  3030  2050  2490  2930  1740  2560  3040\n",
            "  1275  2580  1390  1550  1330  1820  1840  2990  2090  3230  1380  4040\n",
            "  2130  4800  2510  2120  1530  3730   940  1290  2840   833  2000  2085\n",
            "  6070   950  1440  2610  4870  3545  2340  3970  1870  2830   980  3840\n",
            "  4110  4190  3390   630  4860  2810  2110  3080  3180  4030  2430  1100\n",
            "  4760  2530  4740  5403  3350   750  2870  4120  1830  6050  1384  1460\n",
            "  3590  3550  3100  2540  1880  2690   890  3000  3740   870  3930  1140\n",
            "  1255  2630  4370  3190  1500  4570  2470   820  3660  1130  4670  2520\n",
            "  4230  2156  2170  1150  2150  3750  3170  2710  3610  4270  1630  4890\n",
            "  3010   970  2980   380  3460  3060  1020  2970  3810  1654  2780  1860\n",
            "  2790  4390  3680  2670  2208   930   740  1422   920  2460  4250  3220\n",
            "  3440  5670  4475   730  3410  2960  3570  3710  4300  3990  1310  1770\n",
            "  3120  8010   440  4460  4610  2800   790  3690  3732  2410  3110  2963\n",
            "  4930  2452  3370  4640  3940  1981   640  2495  2403  5320  1990  3600\n",
            "  3770  8000   660  3020  3340  2341  4210  3470  3890  6563  1646  3720\n",
            "  3480   710  5450  3504  4440  3530  3210  1782  2650  2850  4830  3320\n",
            "  3540  3330  4130  5710  3380  3620  5620  3362  3510   620  5774  4470\n",
            "  4490  4150  1008  3790   680  3488  5040  3240  3090  5770  2005  6400\n",
            "   670   520  1088  6055   840  6300  4350  2700  4340  4700  4910  2880\n",
            "  2303   780  3270  6840  3640  3655   810  3070  2195  2496  2860  4070\n",
            "  5130  6640  4020  2153  3780  5740  3700  1714  7350  2201  1252  3527\n",
            "  2835  3915  3290  5020  5370  3630  6930   600  6550   570  6110  4100\n",
            "  3490  4883  5010  3596  4660  4600  3560  3800  1295  2305  5410  1556\n",
            "  1553  4000  1657  3001  5340  3860   530   610  5230  4140  4730  4430\n",
            "  3310  1159  5780  6240  1122  3052  1639 10040  3786  4180  7480  2675\n",
            "  2506   580  7080  4080  2154  5760   490  2890  1995  1689  3902  2395\n",
            "  4400  4280  9200  3526  4320  2483  4580  2064  1726  2019  4240  1256\n",
            "   500  2605  4050  3260  3580  1678  6810  4060  1833  1414  4115  3597\n",
            "  4690  2034  2846  5830  2601  3420  3920  2641  5700  5070  2518  3910\n",
            "  4750  3850  3695  2803  2074  2038  2329  4160  1264  1095   690  1594\n",
            "  1392  2844   902  2876  3238  6390  4200  2811  4720  2168  1445  6410\n",
            "  2683  6330  2095  5860  5990  4260  4360  2344  4970  4940  1894  7220\n",
            "  5480  1175  1516  5440  4500  3831  1315  4650  4010  7050  2286  2927\n",
            "  6210 12050  1679  1811  2849  4530  1676  5850  1757  2441  2163  5250\n",
            "  2795  4330  5330  2415  4560  4540  1068  7100  1509  1954  9640  1651\n",
            "   480  5030  5660  1752  2885  5067  1129  5270  2632   560   410  6430\n",
            "  2031  1952  2434  3316  1899  2331  2497  2216  4420  5720  1961  5584\n",
            "  9890  5540  2507  5220  4850  5844  5530  2145  4480  1982  5545  3870\n",
            "  1778  5960  1463  6510  2783  1946  1358  1864  1845  7400  5730  3980\n",
            "   590  1465  2382  2979  3674  5000  3176  2672  6085  5461  3136  4620\n",
            "  5300  3361  3305  2242  1078  2577  1979   420   550  4170  1975  4590\n",
            "  6900  1365  5840  4980  5490  7420  1788  3847  4310  1092  4780  4225\n",
            "  1322  1904   470  3366  2192  6200  2253  2251  5280  7440  4133   650\n",
            "  4285  4450  2008   540 13540  2075  6980  2166  1628  1808  1352  2557\n",
            "  6380  7880  2734  2257  1769  1677  4790  1798  5190  2298  2259  2961\n",
            "  5350  7620  5550  5290  8670  2993  5470  2473  5160  1494  2007  2056\n",
            "  3002  2155  2014  2665  6040   370  2105  3672  7000  5600  6030  3004\n",
            "  2689  5170  4680  2678  2755  2414   901  4630  2068  2807  2643  1552\n",
            "  2181  4510  1776  1435  5810  3045  2717  2905  5210  5110  3133  1048\n",
            "  5610  5090  2375  1964  5150  2206  4960  1785  1814   809  5120  1764\n",
            "  1656  6500  4920  1802   460  2692  2044  4820  5570  1212  4083  3555\n",
            "  8020  4575  1502  2235  2092  5820  7710  3085  1615  7320  4710  1396\n",
            "  1484  6630  5510  1765  1453  1643  6490  4065  5080  4520  2732  1313\n",
            "  5430  1397  2793  2475  1936   998  3276  2393  2029  4168  1072  1984\n",
            "   962  3931  2538  2437  2789  2906  7850  2196  1847  2658  2655  4645\n",
            "  1728  1233  2223  1427  2015  3444  2448  1489  5305  1278  3202  1347\n",
            "  1481  2311  2544  2217  3569  3181  2612  3273  2598  3266  1076  2594\n",
            "  2718  1794  2481  3845  1413  1876  2413  1767  5060   982  2547  1834\n",
            "  2514  1741  2798  1852  4810  2099  3216  2891  2432  2283  2701  2245\n",
            "  1658  2009  1444  2744  3078  3065  1861  1584  2815  6670  1571  1405\n",
            "  6530  6370  3223  1608  2229  3135  1408  5790  1763  1232  2502  2424\n",
            "  1296  1914  3056  2267  1131  2796  1812  2233  1578  1084  2025  1239\n",
            "  2568  1528  2628  2185  2669  6160  1912  2828  2425  3206  2406  1626\n",
            "  2456  5940  1934  3192   828  2529  5520  4495  1987  3906  7120  4073\n",
            "  2578  2738  3691  1061  3402  2542  1889  3753  3236  1451  1983  2313\n",
            "  1909  2301  3274  2864  2716  1458  3281  2398  1867  1613  3217  2623\n",
            "   390   894  6880  1606  2244  2026  2238  2517  2708  2555  1495  1522\n",
            "  1496  7270  2531  1333  2198  3087  1425]\n",
            "\n",
            "Value Counts:\n",
            "1300    125\n",
            "1440    121\n",
            "1400    119\n",
            "1820    118\n",
            "1660    113\n",
            "       ... \n",
            "2216      1\n",
            "2497      1\n",
            "2331      1\n",
            "1899      1\n",
            "1425      1\n",
            "Name: sqft_living, Length: 991, dtype: int64\n"
          ]
        }
      ],
      "source": [
        "sqft_living_column = df['sqft_living']\n",
        "print(\"Unique sqft_living Values:\")\n",
        "print(sqft_living_column.unique())\n",
        "print(\"\\nValue Counts:\")\n",
        "print(sqft_living_column.value_counts())"
      ]
    },
    {
      "cell_type": "code",
      "execution_count": 17,
      "metadata": {
        "colab": {
          "base_uri": "https://localhost:8080/"
        },
        "id": "EU7Y9cA9YfMn",
        "outputId": "39b671ce-1405-4978-a604-bbef51e0064f"
      },
      "outputs": [
        {
          "output_type": "stream",
          "name": "stdout",
          "text": [
            "Unique sqft_lot Values:\n",
            "[ 7242 10000  5000 ...  1126  5813  1076]\n",
            "\n",
            "Value Counts:\n",
            "5000      328\n",
            "6000      253\n",
            "4000      222\n",
            "7200      186\n",
            "4800      112\n",
            "         ... \n",
            "24330       1\n",
            "215622      1\n",
            "6022        1\n",
            "2323        1\n",
            "1076        1\n",
            "Name: sqft_lot, Length: 9053, dtype: int64\n"
          ]
        }
      ],
      "source": [
        "sqft_lot_column = df['sqft_lot']\n",
        "print(\"Unique sqft_lot Values:\")\n",
        "print(sqft_lot_column.unique())\n",
        "print(\"\\nValue Counts:\")\n",
        "print(sqft_lot_column.value_counts())"
      ]
    },
    {
      "cell_type": "code",
      "execution_count": 18,
      "metadata": {
        "colab": {
          "base_uri": "https://localhost:8080/"
        },
        "id": "pnAvze7hYfMn",
        "outputId": "3d2c062f-0a53-4733-c4ad-e7edd8dbda0b"
      },
      "outputs": [
        {
          "output_type": "stream",
          "name": "stdout",
          "text": [
            "Unique sqft_above Values:\n",
            "[2170  770 1050 1680 3890 1715 1890  860 1430 1370 1810 1980 1600 1200\n",
            " 1250 2330 2270 2450 1710 1750 1400  790 2570 2320 1190 1510 1090 1280\n",
            "  930 2360  890 2620 2600 3595 1570  920 3160  990 2290 2165 1640 1000\n",
            " 2130 2250 2420 3250 1850 1260 1540 1110 1770 2240 3070 2380 2390  880\n",
            " 1040  910 3450 2350 1900 1010  960 2660 1610  765 3520 1290 1960 1160\n",
            " 1210 1270 1440 2190 2920 1170 1240 3140 2030 2310  700 1080 2780 1590\n",
            " 1560 1450 2910 1360 1720 1060 2460 1390 2140 1320 1340 1550  940 1380\n",
            " 3670 2370 1130  980 3540 1180 2500 1620 1760 1030 1780 3400 2680 1670\n",
            " 2590  820 1220 2090 1100 1420 1690 1910 1350 1940  900 2440 2714  850\n",
            " 1950 2760 2020 1480 1230 2280 3760 3530  830 1300 2740 1830  720 2010\n",
            " 3360  800 1730 1460  760 1700 1120 1070 4750 5310  580 2653 2850 2210\n",
            " 2630 3500 1740 2720 1140 2160 1330 2040 2180 1660 3370 2690 1930 3150\n",
            " 3030 2050 2490 1860 2560 1275 2580 1820 1840 2990 3230 1580 3480 2510\n",
            " 1410 2120 3300 1500 1530 2150 2840  833 2000 6070  950 2200 4040 1920\n",
            " 3470 2070 2610 3260 1870 2830 2260 3840 3130 3390  630 4860 3860 2810\n",
            "  870 3180 2770 4030 4410 2400 1520 3040 4740 1970 5403 3350 3580 1790\n",
            "  750 2750 2340 2870 4120 3200 2550 4150 1384 2060 2110 3590 2100 2540\n",
            " 1490 1880 1150 1470 1255 1630 4370  970 3190 2730 4570 2470  670 2900\n",
            " 4670 4230 2156 1020 2940 2640 2710 3100 3610 1800 4270  840 3090 2300\n",
            "  380 3460 3060 3000 1654 2790 1310 2230 3680 2670 2208  810  740 1422\n",
            " 2430  490 2080 3440 5670 4475  730 3410  600 2960 3570 4300 3990  780\n",
            " 3020 5990  440 4460 4190 2800 2530 1650 3690 2932 3720 4250 3110 2963\n",
            " 4930 3010 2950 2452 2820 2860 1981  640 2495 2403 5320 6720  660 2341\n",
            " 4210 3830 3280 2980 5153 1646  610  710 5450 1990 3504 2480 2220 3210\n",
            " 1782 2930 2650  590 3880 3430 3750 4130 5710 3380 3330 4700 3220 3362\n",
            " 3510 3810  620 4490 2410 3050 1008  680 3488 3420 5770 1605  520 1088\n",
            " 3555 4360 3960 2700 4340 2520 2303 3270 4350 3640 2174 4160 2496 4070\n",
            " 5130 6350 3770 2153 3780 2890 1714 2201 2970  992 3950 3527 2835 3915\n",
            " 1427 4870 3850 3340 3620 4310 3930 5400  570 6110 3320 3490 3859 3710\n",
            " 1798 4600 3560 3940 3600 3800 1105 2305 3290 5050 1556 1553 4000 1657\n",
            " 3001 4220  480 3120 3740  530 3700 5230 5370 4140 4430 3550 3310 1159\n",
            " 3080 2880 4610 1122 3052 1479 7680 3820 1934 5080 2675 2506 5760 2154\n",
            " 4390 3240 1995 1689 2782 2395 4400 6200 3526 4320 2483 4380 4580 4180\n",
            " 2064 3650 1726 2019 4240 1256  500 1355 1678 1833 1414 4115 3597 3170\n",
            " 1976 5830 2601 3920 2641 5070 2518 3910 3660 3695 4020 2803 2074 2038\n",
            " 4060 4890 2329 1264 1095  690 4090 1392 2844  902 4560 2811 4720 2168\n",
            " 5610 2683 4900 2095 4290  560 4050 4260 4440 6220 1175  998 4500 3900\n",
            " 3831 1315 4470 4280 2286 2927 4760 8570 5140 1679 1811 2849 1676 1757\n",
            " 3730 2441 2163 5250 2795 2415 3970 4200 1068 5240 1509 1954 4820 1651\n",
            " 4100 1752 3630 2885 3154 1129 2632 4010  550  410 6430 3790 2031 1652\n",
            " 2434 4080 3316 1899 2331 2497 2216 4170 1341 1961 5584 8860 2507 5220\n",
            " 4850 5844 5530 2145  650 1982 4910 3605 1778 1463 2783 1946 1358 3870\n",
            " 1864 1845 6290 3980 2382 2979 3674 5000 2726 5440 1295 6085 3265 3136\n",
            " 6640 4620 3361 2245 2242 1078 2577 1329  420 4330 1975 7420 1788 2299\n",
            " 1092 4225 1087 1904  470 2966 2192 2253 5550 4133 4285 1216  540 9410\n",
            " 2075 5330 2166 1628 1808 1352 2557 6380 7880 2734 1363 1769 1677 5190\n",
            " 2298 1491 2961 5020 5980 4540 6120 2233 4480 4110 4770 2473  995 5160\n",
            " 1494 2007 1048 3002 4780 2155 2014 4980 2665 4830 5010  370 2105 3006\n",
            " 3004 2689 4660 2678 2755 2414  901 4630 2068 2807 2643 1552 2181 4510\n",
            " 4420 1604 1435 3045 2717 2905 4940 5110 2533 3485 5090 2375 1964  866\n",
            " 1595  944 5480  809 1764 1656 5180 1802  460 2692 1544 2044 1212 4083\n",
            " 8020 3905 1502 4590 2092 6090 1615 7320 1396 1484 1765 5490 1453 1643\n",
            " 5300 4065 1313 5430 1397 2793 2475 1936  798 3276 2393 2029 3222 1072\n",
            " 1785 1984  962 2538 2437 2789 2906 4800 7850 2196 1847 2658 2655 3855\n",
            " 1728  963 2223 2015 2448 1489 1116 3745 1002 3202 1347 1481 2311 2544\n",
            " 2217 3569 3181 2612 2671 2598 3266 1076 2594 2718 1794 2481 3845 1413\n",
            " 1876 2413 1767 5060  806 2547 1834 2024 1165 1741 2798 1852 4810 2099\n",
            " 3216 1094 2891 2432 2283 2701 1658 2009 1444 2744 3078 3065 1578 1584\n",
            " 2815 4960 1571 6530 4640 6370 3223 1608 2229 3135 1408 1763 1232 2502\n",
            " 2424 1296 1914 3056 2267 1131 2796 1812 1084 2025 1564 1239 2568 1528\n",
            " 2628 2185 2669 1912 2828 2425 1446 3206 2406 1419 2056 1144 2456 4950\n",
            " 3192  828 2529 2732 1987 3906 4073 2578 2738 3691 1061 2846 2542 1889\n",
            " 3336 3236 1451 1983 2313 1322 1766 2301 3274 2864 2716 3281 2398 1867\n",
            " 1613 2587 2623  390  894 1606 2244 2026 2238 2517 2708 2555 1405 4450\n",
            " 1248 6420 2531 1333 2198 3087 1425]\n",
            "\n",
            "Value Counts:\n",
            "1300    193\n",
            "1010    184\n",
            "1200    174\n",
            "1220    170\n",
            "1060    167\n",
            "       ... \n",
            "1463      1\n",
            "1778      1\n",
            "3605      1\n",
            "1982      1\n",
            "1425      1\n",
            "Name: sqft_above, Length: 903, dtype: int64\n"
          ]
        }
      ],
      "source": [
        "sqft_above_column = df['sqft_above']\n",
        "print(\"Unique sqft_above Values:\")\n",
        "print(sqft_above_column.unique())\n",
        "print(\"\\nValue Counts:\")\n",
        "print(sqft_above_column.value_counts())"
      ]
    },
    {
      "cell_type": "code",
      "execution_count": 19,
      "metadata": {
        "colab": {
          "base_uri": "https://localhost:8080/"
        },
        "id": "Cuu89lSVYfMo",
        "outputId": "244dd62c-3bc4-46cc-ed51-7262f5054614"
      },
      "outputs": [
        {
          "output_type": "stream",
          "name": "stdout",
          "text": [
            "Unique sqft_basement Values:\n",
            "['400.0' '0.0' '910.0' '1530.0' '?' '730.0' '300.0' '970.0' '760.0'\n",
            " '720.0' '700.0' '820.0' '780.0' '790.0' '330.0' '1620.0' '360.0' '588.0'\n",
            " '1510.0' '410.0' '990.0' '600.0' '550.0' '1000.0' '1600.0' '1700.0'\n",
            " '500.0' '1040.0' '880.0' '1010.0' '240.0' '265.0' '290.0' '800.0' '540.0'\n",
            " '560.0' '840.0' '770.0' '570.0' '1490.0' '620.0' '1250.0' '1270.0'\n",
            " '120.0' '650.0' '180.0' '1130.0' '450.0' '1640.0' '1460.0' '1020.0'\n",
            " '1030.0' '750.0' '640.0' '1070.0' '490.0' '1310.0' '630.0' '2000.0'\n",
            " '390.0' '430.0' '210.0' '1950.0' '440.0' '220.0' '1160.0' '860.0' '580.0'\n",
            " '2060.0' '1820.0' '1180.0' '380.0' '200.0' '1150.0' '1200.0' '680.0'\n",
            " '1450.0' '1170.0' '1080.0' '960.0' '280.0' '870.0' '1100.0' '1400.0'\n",
            " '530.0' '660.0' '1220.0' '900.0' '420.0' '1580.0' '1380.0' '475.0'\n",
            " '690.0' '270.0' '350.0' '935.0' '710.0' '1370.0' '980.0' '850.0' '1470.0'\n",
            " '160.0' '950.0' '460.0' '50.0' '1900.0' '340.0' '470.0' '370.0' '140.0'\n",
            " '480.0' '1760.0' '130.0' '520.0' '890.0' '1110.0' '150.0' '1720.0'\n",
            " '810.0' '190.0' '1290.0' '670.0' '1800.0' '1120.0' '60.0' '1050.0'\n",
            " '940.0' '310.0' '930.0' '1390.0' '610.0' '1830.0' '1300.0' '510.0'\n",
            " '1590.0' '920.0' '1320.0' '1420.0' '1240.0' '1960.0' '1560.0' '2020.0'\n",
            " '1190.0' '2110.0' '1280.0' '250.0' '1230.0' '170.0' '1780.0' '830.0'\n",
            " '1330.0' '1410.0' '590.0' '1500.0' '1140.0' '260.0' '100.0' '320.0'\n",
            " '1480.0' '1260.0' '1284.0' '1670.0' '1350.0' '740.0' '2570.0' '1060.0'\n",
            " '1090.0' '110.0' '2500.0' '90.0' '1940.0' '1550.0' '2350.0' '2490.0'\n",
            " '1340.0' '1481.0' '1360.0' '1135.0' '1520.0' '1850.0' '1660.0' '2130.0'\n",
            " '2600.0' '243.0' '1210.0' '1024.0' '1798.0' '1610.0' '1440.0' '1690.0'\n",
            " '1570.0' '1650.0' '1910.0' '1630.0' '2360.0' '1852.0' '2400.0' '1790.0'\n",
            " '2150.0' '230.0' '70.0' '1430.0' '1680.0' '2100.0' '3000.0' '1870.0'\n",
            " '1710.0' '2030.0' '875.0' '1540.0' '2850.0' '2170.0' '506.0' '906.0'\n",
            " '145.0' '2040.0' '784.0' '1750.0' '374.0' '518.0' '2720.0' '2730.0'\n",
            " '1840.0' '3480.0' '1920.0' '2330.0' '1860.0' '2050.0' '4820.0' '1913.0'\n",
            " '80.0' '2010.0' '3260.0' '2200.0' '415.0' '1730.0' '652.0' '2196.0'\n",
            " '1930.0' '1810.0' '40.0' '2080.0' '2580.0' '1548.0' '1740.0' '235.0'\n",
            " '861.0' '1890.0' '2220.0' '792.0' '2070.0' '4130.0' '2090.0' '2250.0'\n",
            " '2240.0' '2160.0' '1990.0' '768.0' '515.0' '2550.0' '435.0' '1008.0'\n",
            " '2300.0' '2610.0' '666.0' '3500.0' '172.0' '2190.0' '1245.0' '1525.0'\n",
            " '1880.0' '862.0' '946.0' '1281.0' '414.0' '276.0' '1248.0' '602.0'\n",
            " '516.0' '176.0' '225.0' '266.0' '283.0' '2310.0' '10.0' '1770.0' '2120.0'\n",
            " '295.0' '207.0' '915.0' '556.0' '417.0' '143.0' '508.0' '2810.0' '20.0'\n",
            " '274.0' '248.0']\n",
            "\n",
            "Value Counts:\n",
            "0.0       11379\n",
            "?           415\n",
            "600.0       190\n",
            "700.0       187\n",
            "500.0       186\n",
            "          ...  \n",
            "2720.0        1\n",
            "518.0         1\n",
            "374.0         1\n",
            "784.0         1\n",
            "248.0         1\n",
            "Name: sqft_basement, Length: 298, dtype: int64\n"
          ]
        }
      ],
      "source": [
        "sqft_basement_column = df['sqft_basement']\n",
        "print(\"Unique sqft_basement Values:\")\n",
        "print(sqft_basement_column.unique())\n",
        "print(\"\\nValue Counts:\")\n",
        "print(sqft_basement_column.value_counts())"
      ]
    },
    {
      "cell_type": "code",
      "execution_count": 20,
      "metadata": {
        "colab": {
          "base_uri": "https://localhost:8080/"
        },
        "id": "kWr09TbxYfMp",
        "outputId": "f64033e0-2408-4423-8c63-1332eadb2227"
      },
      "outputs": [
        {
          "output_type": "stream",
          "name": "stdout",
          "text": [
            "Unique sqft_living15 Values:\n",
            "[1690 2720 1360 1800 4760 2238 1780 2390 1330 1370 2140 1890 1610 1060\n",
            " 1280 1400 4110 2240 2200 1030 1760 1860 1520 2630 2580 1390 1460 1570\n",
            " 2020 1590 2160 1730 1290 2620 2410 3625 1580 1340 3050 1228 2680  970\n",
            " 1190 1990 1410 1480 2730 2250 2690 2960 2270 1440 2221 1010 3390 3530\n",
            " 1640 1510 2420 1940 3240 1680  890 1130 3350 2350 1870 1720 1850 1950\n",
            " 1980 2520 1350 1750 1160 1650 2550 2570 2370 1240 1270 2990 2500 1380\n",
            " 1540 2090 1830 1620 2340 1710 2700 3060 1700 1420 2060 2480 1550 1170\n",
            " 2820 1560 2230 2840 1450 1500 3160 2640 1200 3400 2110 2920 1070 1930\n",
            " 3740 2260 1670 1050 2540 2190 2030 1230 1900 2330 1430 2750 1250 2590\n",
            " 2130 1100 1320 2120 3070 1910 2080 1960 2280 1150 3430 2070 2600  830\n",
            " 1260 3120 2010 1630 1660 1600 2380 3890 4180 2653 2670 3920 2300 2310\n",
            " 2320 3150 4550 2510 1740 2440 2880 3860 2150 1310 2660 1820 3080 2770\n",
            "  880 2560 3470 1020 2040 2610 2470 1810 2860 3480 1770 3130 3360 4050\n",
            " 2450 1880 1790 3180 2000 2850 4680 2360 1300 2290 3930 2460 2077 2400\n",
            " 1920 3630 1490 3220 1220 2100 3230 4300 3850 3600 2424 2530 3030 2830\n",
            " 2900 2950 1470  940 2740 3340 3980 2180 3715 2050 1080 1000 2170 1408\n",
            " 1530 2760 3110  950 3000 1307 2220 4190 3250 1110 2870 2430 1210 1120\n",
            " 4230 1708 3090 2210 3270 2970 1180 3100 4100 2930 3510 2095 2688 1840\n",
            " 2490 2810 3260 3680 3420 1654 1365 1677 1970 3330 1140 3640 3460 3140\n",
            " 1502 3440 3720 2790 2940  990  860 4750 3950 5790  760 2234  960 3210\n",
            " 2780 2800 2305 2665 3620 2710 2650  980 3370 1509 1277 1981 2434 4640\n",
            " 2242 3040 3970 3200 4600  840 3290 2214 2910 5600 3820 3540 1975 2890\n",
            "  740 3990 3170 1576 1768 3010 3310 2980 1429 3900 3380  820 1090 4060\n",
            " 3910 3190 3450 3730  620 3020 3760 3320 1132 3300 3960  870 3560 4620\n",
            " 3520 1572 3490 1088 3159 4470 4890 3690 3280 2083 1941 1566  850 2496\n",
            " 3410 1040 4670 4350 1714 5380 3830 5000  920 2144 1494 1357  930 3580\n",
            " 4250 3770 3736 1894 2037 1295 4090 3750 3550 4630 1439 2091  900 3880\n",
            " 3710 1616  720  800 1564 4170 2767 3721 4650 1728 2027 1264 3500 4240\n",
            " 1404 1459 2028 3639 4320 1943 3425 2641 2114 1309 2412 2517 1802 2011\n",
            " 1466 1414 3193 1845 1156 3670 4080 1696 5340 4440 1745 1884 4920 2406\n",
            " 4160 3810 4480 2848 1746 2634 2049 5330 1536 2273 3056 4010 4700  910\n",
            " 2125 1665 2683 3790  700  750 1078 4150 4020 4340 2344 1098 1175 3700\n",
            " 3840 4042 2518 3800 2488 2052  810 1528 5030 5070 2967 4280 2724 3610\n",
            " 3940 4770 1811 4830 2876 1805 1216 5170 2474 4590 1492 2168 4140  780\n",
            " 3543 1303 2005 3650 4310 2451 1448 2955  790 1638 2554 2441 2216 1188\n",
            " 4220 1961 4540  770 3570 4200 3413 1458 2136 3568 3590 4510 1484 3780\n",
            " 1358 2106 2014 4390 4570 2175 6110 4260  710 2112 1934 1518 1302 2622\n",
            " 2619 2382 4290 4560 4000 1336 3112 4070 1468 1571 1138 5110 4850 2165\n",
            " 4410 5610 1984 4660 3870 4370  460 4610 1914 3515 2246 1786 2109 4740\n",
            " 2728 4400 4950 1767 5500 2555 2315 3674 2765 1862 1352 4030  399 2901\n",
            " 2415 1815 2236 2253 2004 1356 1137 1256 2605 1525 4930 4040 2376 4520\n",
            " 4490 2189 2566 2396 1282 4130 2155 1056 2256 3618 1326 1168 4913  806\n",
            " 2405 2875 1425 5220 1442 2333 3335 1321 3045 1546 4730 2697 3660 2822\n",
            " 2076 1757  952 4270 2075 2667 1092 1217 1716 1792 2961 1125 1463 1886\n",
            "  670 2336 5200 2258 1377 2019 2092 4900 4210 1639 1765 1554 4120 5080\n",
            " 1445 2793 2475  998 2384 1398 2439 2197 2029 4362 1443 4420 1691 2437\n",
            " 2547 6210 2009 1847 1346 2578 2879 2815 1584 1608  690 2425 1481 2458\n",
            " 2358 2056 2419 2996 2502 1798 3087 1076 2981 3557 2363 3191 1763 1876\n",
            " 1949 2598 1979 1415 2002 2574 2166 2099 1522 1544 2912 2648 1658 2755\n",
            " 2798 4800 1405 4690 2738 3008 2586 2873 1232 2597 2516 1537 2849 1399\n",
            " 1131 1569 2381 1084 2304 1664 4530 2297 2303 2669 4225 2513 2725 1955\n",
            " 2527 2478 1919 1813 2533  828 2015 3078 2583 1128 4495 2673 2316 2647\n",
            " 3402 3494 2156 3236 2612 2323 2354 2616 1427 1516 2456 2844 1495 2594\n",
            " 2604 1268 2198 3038 2927 1285]\n",
            "\n",
            "Value Counts:\n",
            "1440    173\n",
            "1560    172\n",
            "1540    171\n",
            "1500    156\n",
            "1460    153\n",
            "       ... \n",
            "3736      1\n",
            "4950      1\n",
            "2728      1\n",
            "4740      1\n",
            "1285      1\n",
            "Name: sqft_living15, Length: 748, dtype: int64\n"
          ]
        }
      ],
      "source": [
        "sqft_living15_column = df['sqft_living15']\n",
        "print(\"Unique sqft_living15 Values:\")\n",
        "print(sqft_living15_column.unique())\n",
        "print(\"\\nValue Counts:\")\n",
        "print(sqft_living15_column.value_counts())"
      ]
    },
    {
      "cell_type": "code",
      "execution_count": 21,
      "metadata": {
        "id": "Kgh6e8AlYfMs",
        "outputId": "51abb6cb-925e-4bc8-adee-9065514f79e1",
        "colab": {
          "base_uri": "https://localhost:8080/"
        }
      },
      "outputs": [
        {
          "output_type": "stream",
          "name": "stdout",
          "text": [
            "Unique sqft_lot15 Values:\n",
            "[7639 8062 5000 ... 6814 1509 2007]\n",
            "\n",
            "Value Counts:\n",
            "5000     380\n",
            "4000     323\n",
            "6000     257\n",
            "7200     183\n",
            "4800     131\n",
            "        ... \n",
            "6053       1\n",
            "1799       1\n",
            "10049      1\n",
            "9128       1\n",
            "2007       1\n",
            "Name: sqft_lot15, Length: 8067, dtype: int64\n"
          ]
        }
      ],
      "source": [
        "\n",
        "sqft_lot15_column = df['sqft_lot15']\n",
        "print(\"Unique sqft_lot15 Values:\")\n",
        "print(sqft_lot15_column.unique())\n",
        "print(\"\\nValue Counts:\")\n",
        "print(sqft_lot15_column.value_counts())"
      ]
    },
    {
      "cell_type": "code",
      "execution_count": 22,
      "metadata": {
        "colab": {
          "base_uri": "https://localhost:8080/",
          "height": 564
        },
        "id": "-rOZfs5xYfMu",
        "outputId": "b9a610e7-26df-4f40-cb66-d853e18e3e46"
      },
      "outputs": [
        {
          "output_type": "display_data",
          "data": {
            "text/plain": [
              "<Figure size 1000x600 with 1 Axes>"
            ],
            "image/png": "[encoded data removed]"
          },
          "metadata": {}
        }
      ],
      "source": [
        "#identifying outliers\n",
        "# Visualize potential outliers using box plots\n",
        "import matplotlib.pyplot as plt\n",
        "plt.figure(figsize=(10, 6))\n",
        "plt.boxplot(df['price'])\n",
        "plt.xlabel('Price')\n",
        "plt.title('Box Plot - Potential Outliers in Price')\n",
        "plt.show()\n"
      ]
    },
    {
      "cell_type": "code",
      "source": [
        "plt.figure(figsize=(10, 6))\n",
        "plt.boxplot(df['bathrooms'])\n",
        "plt.xlabel('bathrooms')\n",
        "plt.title('Box Plot - Potential Outliers in bathrooms')\n",
        "plt.show()\n"
      ],
      "metadata": {
        "id": "rm4_e8oay2tW",
        "outputId": "a7d3ceaf-a01a-4b2c-cce0-4abec266a83a",
        "colab": {
          "base_uri": "https://localhost:8080/",
          "height": 564
        }
      },
      "execution_count": 23,
      "outputs": [
        {
          "output_type": "display_data",
          "data": {
            "text/plain": [
              "<Figure size 1000x600 with 1 Axes>"
            ],
            "image/png": "[encoded data removed]"
          },
          "metadata": {}
        }
      ]
    },
    {
      "cell_type": "code",
      "source": [
        "plt.figure(figsize=(10, 6))\n",
        "plt.boxplot(df['bedrooms'])\n",
        "plt.xlabel('bedrooms')\n",
        "plt.title('Box Plot - Potential Outliers in bedrooms')\n",
        "plt.show()"
      ],
      "metadata": {
        "id": "upE0TxyP02Ct",
        "outputId": "f4c47e59-e514-4e06-c67e-d9cbe7f5256b",
        "colab": {
          "base_uri": "https://localhost:8080/",
          "height": 564
        }
      },
      "execution_count": 24,
      "outputs": [
        {
          "output_type": "display_data",
          "data": {
            "text/plain": [
              "<Figure size 1000x600 with 1 Axes>"
            ],
            "image/png": "[encoded data removed]"
          },
          "metadata": {}
        }
      ]
    },
    {
      "cell_type": "code",
      "source": [
        "df.shape"
      ],
      "metadata": {
        "colab": {
          "base_uri": "https://localhost:8080/"
        },
        "id": "9907XCF-xl6U",
        "outputId": "c6b68389-5dd9-445e-a137-57f096f7d08a"
      },
      "execution_count": 32,
      "outputs": [
        {
          "output_type": "execute_result",
          "data": {
            "text/plain": [
              "(19164, 21)"
            ]
          },
          "metadata": {},
          "execution_count": 32
        }
      ]
    },
    {
      "cell_type": "code",
      "source": [
        "# Identifying outliers in the number of bedrooms columns\n",
        "import numpy as np\n",
        "outliers = []\n",
        "def detect_outliers_zscore(sqft_living):\n",
        "    thres = 3\n",
        "    mean = np.mean(df['sqft_living'])\n",
        "    std = np.std(df['sqft_living'])\n",
        "    # print(mean, std)\n",
        "    for i in df:\n",
        "        z_score = (i-mean)/std\n",
        "        if (np.abs(z_score) > thres):\n",
        "            outliers.append(i)\n",
        "    return outliers# Driver code\n",
        "df_outliers = detect_outliers_zscore(df['sqft_living'])\n",
        "print(\"Outliers from Z-scores method: \", df_outliers)\n",
        "\n",
        "\n",
        "# Trimming\n",
        "for i in df_outliers:\n",
        "  a = np.delete(df, np.where(df==i))\n",
        "#print(a)\n",
        "print(len(df), len(a))\n"
      ],
      "metadata": {
        "id": "ZatTGxDmuYW_",
        "colab": {
          "base_uri": "https://localhost:8080/",
          "height": 357
        },
        "outputId": "191e4c6b-a310-481c-c166-cdd176a1ece1"
      },
      "execution_count": 25,
      "outputs": [
        {
          "output_type": "error",
          "ename": "UFuncTypeError",
          "evalue": "ignored",
          "traceback": [
            "\u001b[0;31m---------------------------------------------------------------------------\u001b[0m",
            "\u001b[0;31mUFuncTypeError\u001b[0m                            Traceback (most recent call last)",
            "\u001b[0;32m<ipython-input-25-a64c18f7212b>\u001b[0m in \u001b[0;36m<cell line: 14>\u001b[0;34m()\u001b[0m\n\u001b[1;32m     12\u001b[0m             \u001b[0moutliers\u001b[0m\u001b[0;34m.\u001b[0m\u001b[0mappend\u001b[0m\u001b[0;34m(\u001b[0m\u001b[0mi\u001b[0m\u001b[0;34m)\u001b[0m\u001b[0;34m\u001b[0m\u001b[0;34m\u001b[0m\u001b[0m\n\u001b[1;32m     13\u001b[0m     \u001b[0;32mreturn\u001b[0m \u001b[0moutliers\u001b[0m\u001b[0;31m# Driver code\u001b[0m\u001b[0;34m\u001b[0m\u001b[0;34m\u001b[0m\u001b[0m\n\u001b[0;32m---> 14\u001b[0;31m \u001b[0mdf_outliers\u001b[0m \u001b[0;34m=\u001b[0m \u001b[0mdetect_outliers_zscore\u001b[0m\u001b[0;34m(\u001b[0m\u001b[0mdf\u001b[0m\u001b[0;34m[\u001b[0m\u001b[0;34m'sqft_living'\u001b[0m\u001b[0;34m]\u001b[0m\u001b[0;34m)\u001b[0m\u001b[0;34m\u001b[0m\u001b[0;34m\u001b[0m\u001b[0m\n\u001b[0m\u001b[1;32m     15\u001b[0m \u001b[0mprint\u001b[0m\u001b[0;34m(\u001b[0m\u001b[0;34m\"Outliers from Z-scores method: \"\u001b[0m\u001b[0;34m,\u001b[0m \u001b[0mdf_outliers\u001b[0m\u001b[0;34m)\u001b[0m\u001b[0;34m\u001b[0m\u001b[0;34m\u001b[0m\u001b[0m\n\u001b[1;32m     16\u001b[0m \u001b[0;34m\u001b[0m\u001b[0m\n",
            "\u001b[0;32m<ipython-input-25-a64c18f7212b>\u001b[0m in \u001b[0;36mdetect_outliers_zscore\u001b[0;34m(sqft_living)\u001b[0m\n\u001b[1;32m      8\u001b[0m     \u001b[0;31m# print(mean, std)\u001b[0m\u001b[0;34m\u001b[0m\u001b[0;34m\u001b[0m\u001b[0m\n\u001b[1;32m      9\u001b[0m     \u001b[0;32mfor\u001b[0m \u001b[0mi\u001b[0m \u001b[0;32min\u001b[0m \u001b[0mdf\u001b[0m\u001b[0;34m:\u001b[0m\u001b[0;34m\u001b[0m\u001b[0;34m\u001b[0m\u001b[0m\n\u001b[0;32m---> 10\u001b[0;31m         \u001b[0mz_score\u001b[0m \u001b[0;34m=\u001b[0m \u001b[0;34m(\u001b[0m\u001b[0mi\u001b[0m\u001b[0;34m-\u001b[0m\u001b[0mmean\u001b[0m\u001b[0;34m)\u001b[0m\u001b[0;34m/\u001b[0m\u001b[0mstd\u001b[0m\u001b[0;34m\u001b[0m\u001b[0;34m\u001b[0m\u001b[0m\n\u001b[0m\u001b[1;32m     11\u001b[0m         \u001b[0;32mif\u001b[0m \u001b[0;34m(\u001b[0m\u001b[0mnp\u001b[0m\u001b[0;34m.\u001b[0m\u001b[0mabs\u001b[0m\u001b[0;34m(\u001b[0m\u001b[0mz_score\u001b[0m\u001b[0;34m)\u001b[0m \u001b[0;34m>\u001b[0m \u001b[0mthres\u001b[0m\u001b[0;34m)\u001b[0m\u001b[0;34m:\u001b[0m\u001b[0;34m\u001b[0m\u001b[0;34m\u001b[0m\u001b[0m\n\u001b[1;32m     12\u001b[0m             \u001b[0moutliers\u001b[0m\u001b[0;34m.\u001b[0m\u001b[0mappend\u001b[0m\u001b[0;34m(\u001b[0m\u001b[0mi\u001b[0m\u001b[0;34m)\u001b[0m\u001b[0;34m\u001b[0m\u001b[0;34m\u001b[0m\u001b[0m\n",
            "\u001b[0;31mUFuncTypeError\u001b[0m: ufunc 'subtract' did not contain a loop with signature matching types (dtype('<U2'), dtype('float64')) -> None"
          ]
        }
      ]
    },
    {
      "cell_type": "code",
      "source": [
        "import numpy as np\n",
        "\n",
        "def detect_outliers_zscore(sqft_living):\n",
        "    outliers = []\n",
        "    thres = 3\n",
        "    mean = np.mean(sqft_living)\n",
        "    std = np.std(sqft_living)\n",
        "    \n",
        "    for i in sqft_living:\n",
        "        z_score = (i - mean) / std\n",
        "        if np.abs(z_score) > thres:\n",
        "            outliers.append(i)\n",
        "    \n",
        "    return outliers\n",
        "\n",
        "df_outliers = detect_outliers_zscore(df['sqft_living'].values)\n",
        "print(\"Outliers from Z-scores method: \", df_outliers)\n",
        "\n",
        "# Trimming\n",
        "a = np.delete(df['sqft_living'].values, np.where(np.isin(df['sqft_living'].values, df_outliers)))\n",
        "print(len(df['sqft_living']), len(a))\n"
      ],
      "metadata": {
        "colab": {
          "base_uri": "https://localhost:8080/"
        },
        "id": "LYe1Soi0vFwe",
        "outputId": "321864b8-7444-4f9a-def0-4b0e21366f5e"
      },
      "execution_count": 26,
      "outputs": [
        {
          "output_type": "stream",
          "name": "stdout",
          "text": [
            "Outliers from Z-scores method:  [5420, 5180, 5050, 5310, 6070, 4870, 4860, 4860, 5403, 6050, 4860, 4890, 5670, 6070, 8010, 4930, 5320, 8000, 6563, 5450, 5710, 5620, 5774, 5040, 5770, 5180, 6400, 6055, 6300, 4910, 6840, 4930, 5130, 6640, 5740, 7350, 4870, 5020, 5370, 4860, 6930, 6550, 6110, 4883, 5010, 5410, 5340, 5230, 5370, 5780, 6240, 10040, 7480, 5620, 7080, 5760, 9200, 5310, 5180, 6810, 5830, 4930, 5700, 5070, 5040, 4890, 6390, 5450, 6410, 6330, 5860, 5990, 4970, 4940, 7220, 5480, 5440, 5180, 7050, 4870, 6210, 12050, 5480, 5850, 5250, 5330, 7100, 5230, 9640, 5030, 5660, 5067, 5270, 6430, 5720, 5584, 9890, 5770, 5540, 5050, 5220, 4850, 5844, 5530, 5860, 5545, 5960, 6510, 5050, 7400, 5730, 5370, 5000, 5440, 6085, 5461, 6640, 5300, 4850, 5000, 6900, 5840, 4980, 5490, 7420, 4850, 6200, 5280, 7440, 13540, 6980, 5850, 6380, 7880, 5270, 5370, 5190, 5350, 7620, 6200, 5840, 5550, 5290, 5290, 5020, 5480, 8670, 5470, 5160, 5770, 4980, 6040, 5310, 5010, 7000, 5600, 6030, 5170, 5310, 5550, 5860, 5810, 5210, 5110, 5960, 5610, 5090, 5150, 4960, 5480, 5120, 5550, 6500, 4920, 4860, 5570, 4960, 8020, 5470, 5540, 5820, 7710, 5020, 7320, 6630, 5510, 5490, 6490, 5300, 5080, 4910, 5430, 4890, 5610, 5050, 5330, 7850, 5305, 5120, 5220, 5060, 4920, 6670, 6530, 5350, 6370, 5790, 5780, 5790, 6160, 5940, 5520, 5190, 7120, 5010, 6880, 5230, 7270, 4920, 5150, 5090, 4850, 4910]\n",
            "19164 18941\n"
          ]
        }
      ]
    },
    {
      "cell_type": "code",
      "source": [
        "import numpy as np\n",
        "import pandas as pd\n",
        "\n",
        "def detect_outliers_zscore(sqft_living):\n",
        "    outliers = []\n",
        "    thres = 3\n",
        "    mean = np.mean(sqft_living)\n",
        "    std = np.std(sqft_living)\n",
        "    \n",
        "    for i in sqft_living:\n",
        "        z_score = (i - mean) / std\n",
        "        if np.abs(z_score) > thres:\n",
        "            outliers.append(i)\n",
        "    \n",
        "    return outliers\n",
        "\n",
        "df_outliers = detect_outliers_zscore(df['sqft_living'].values)\n",
        "print(\"Outliers from Z-scores method: \", df_outliers)\n",
        "\n",
        "# Trimming\n",
        "trimmed_df = df[~np.isin(df['sqft_living'].values, df_outliers)]\n",
        "\n",
        "print(\"Original DataFrame shape:\", df.shape)\n",
        "print(\"Trimmed DataFrame shape:\", trimmed_df.shape)\n",
        "\n",
        "# Inclusion\n",
        "included_df = pd.concat([df, trimmed_df]).drop_duplicates(keep=False)\n",
        "print(\"Included DataFrame shape:\", included_df.shape)\n"
      ],
      "metadata": {
        "colab": {
          "base_uri": "https://localhost:8080/"
        },
        "id": "8zRBAfO90paG",
        "outputId": "ced1b009-d2b2-4769-b8d1-56d9b99d48e3"
      },
      "execution_count": 35,
      "outputs": [
        {
          "output_type": "stream",
          "name": "stdout",
          "text": [
            "Outliers from Z-scores method:  [5420, 5180, 5050, 5310, 6070, 4870, 4860, 4860, 5403, 6050, 4860, 4890, 5670, 6070, 8010, 4930, 5320, 8000, 6563, 5450, 5710, 5620, 5774, 5040, 5770, 5180, 6400, 6055, 6300, 4910, 6840, 4930, 5130, 6640, 5740, 7350, 4870, 5020, 5370, 4860, 6930, 6550, 6110, 4883, 5010, 5410, 5340, 5230, 5370, 5780, 6240, 10040, 7480, 5620, 7080, 5760, 9200, 5310, 5180, 6810, 5830, 4930, 5700, 5070, 5040, 4890, 6390, 5450, 6410, 6330, 5860, 5990, 4970, 4940, 7220, 5480, 5440, 5180, 7050, 4870, 6210, 12050, 5480, 5850, 5250, 5330, 7100, 5230, 9640, 5030, 5660, 5067, 5270, 6430, 5720, 5584, 9890, 5770, 5540, 5050, 5220, 4850, 5844, 5530, 5860, 5545, 5960, 6510, 5050, 7400, 5730, 5370, 5000, 5440, 6085, 5461, 6640, 5300, 4850, 5000, 6900, 5840, 4980, 5490, 7420, 4850, 6200, 5280, 7440, 13540, 6980, 5850, 6380, 7880, 5270, 5370, 5190, 5350, 7620, 6200, 5840, 5550, 5290, 5290, 5020, 5480, 8670, 5470, 5160, 5770, 4980, 6040, 5310, 5010, 7000, 5600, 6030, 5170, 5310, 5550, 5860, 5810, 5210, 5110, 5960, 5610, 5090, 5150, 4960, 5480, 5120, 5550, 6500, 4920, 4860, 5570, 4960, 8020, 5470, 5540, 5820, 7710, 5020, 7320, 6630, 5510, 5490, 6490, 5300, 5080, 4910, 5430, 4890, 5610, 5050, 5330, 7850, 5305, 5120, 5220, 5060, 4920, 6670, 6530, 5350, 6370, 5790, 5780, 5790, 6160, 5940, 5520, 5190, 7120, 5010, 6880, 5230, 7270, 4920, 5150, 5090, 4850, 4910]\n",
            "Original DataFrame shape: (19164, 21)\n",
            "Trimmed DataFrame shape: (18941, 21)\n",
            "Included DataFrame shape: (223, 21)\n"
          ]
        }
      ]
    },
    {
      "cell_type": "code",
      "source": [
        "df.shape"
      ],
      "metadata": {
        "colab": {
          "base_uri": "https://localhost:8080/"
        },
        "id": "kA9XIJVm00Yb",
        "outputId": "a273af68-a762-4df2-de6b-11e6ed780b2b"
      },
      "execution_count": 36,
      "outputs": [
        {
          "output_type": "execute_result",
          "data": {
            "text/plain": [
              "(19164, 21)"
            ]
          },
          "metadata": {},
          "execution_count": 36
        }
      ]
    },
    {
      "cell_type": "code",
      "source": [
        "print(df.shape)\n",
        "df.info()"
      ],
      "metadata": {
        "colab": {
          "base_uri": "https://localhost:8080/"
        },
        "id": "xtDN1KaiwDQC",
        "outputId": "adb04d6d-4612-4f31-b26f-01a196a253bd"
      },
      "execution_count": 34,
      "outputs": [
        {
          "output_type": "stream",
          "name": "stdout",
          "text": [
            "(19164, 21)\n",
            "<class 'pandas.core.frame.DataFrame'>\n",
            "Int64Index: 19164 entries, 1 to 21596\n",
            "Data columns (total 21 columns):\n",
            " #   Column         Non-Null Count  Dtype  \n",
            "---  ------         --------------  -----  \n",
            " 0   id             19164 non-null  int64  \n",
            " 1   date           19164 non-null  object \n",
            " 2   price          19164 non-null  float64\n",
            " 3   bedrooms       19164 non-null  int64  \n",
            " 4   bathrooms      19164 non-null  float64\n",
            " 5   sqft_living    19164 non-null  int64  \n",
            " 6   sqft_lot       19164 non-null  int64  \n",
            " 7   floors         19164 non-null  float64\n",
            " 8   waterfront     19164 non-null  object \n",
            " 9   view           19164 non-null  object \n",
            " 10  condition      19164 non-null  object \n",
            " 11  grade          19164 non-null  object \n",
            " 12  sqft_above     19164 non-null  int64  \n",
            " 13  sqft_basement  19164 non-null  object \n",
            " 14  yr_built       19164 non-null  int64  \n",
            " 15  yr_renovated   19164 non-null  float64\n",
            " 16  zipcode        19164 non-null  int64  \n",
            " 17  lat            19164 non-null  float64\n",
            " 18  long           19164 non-null  float64\n",
            " 19  sqft_living15  19164 non-null  int64  \n",
            " 20  sqft_lot15     19164 non-null  int64  \n",
            "dtypes: float64(6), int64(9), object(6)\n",
            "memory usage: 3.2+ MB\n"
          ]
        }
      ]
    },
    {
      "cell_type": "code",
      "source": [
        "import numpy as np\n",
        "\n",
        "def detect_outliers_zscore(data, column):\n",
        "    outliers = []\n",
        "    threshold = 3\n",
        "    mean = np.mean(data[column])\n",
        "    std = np.std(data[column])\n",
        "    \n",
        "    for value in data[column]:\n",
        "        z_score = (value - mean) / std\n",
        "        if np.abs(z_score) > threshold:\n",
        "            outliers.append(value)\n",
        "    \n",
        "    return outliers\n",
        "\n",
        "def trim_outliers(data, column, outliers):\n",
        "    return data[~data[column].isin(outliers)]\n",
        "\n",
        "# Example usage\n",
        "# Assuming you have a DataFrame called 'df' with the provided columns\n",
        "\n",
        "numerical_columns = ['price', 'bedrooms', 'bathrooms', 'sqft_living', 'sqft_lot', 'floors', 'sqft_above', 'yr_built', 'yr_renovated', 'zipcode', 'lat', 'long', 'sqft_living15', 'sqft_lot15']\n",
        "\n",
        "outliers = []\n",
        "for column in numerical_columns:\n",
        "    column_outliers = detect_outliers_zscore(df, column)\n",
        "    outliers.extend(column_outliers)\n",
        "\n",
        "trimmed_df = df.copy()\n",
        "for column in numerical_columns:\n",
        "    trimmed_df = trim_outliers(trimmed_df, column, outliers)\n",
        "\n",
        "print(\"Original DataFrame shape:\", df.shape)\n",
        "print(\"Trimmed DataFrame shape:\", trimmed_df.shape)\n"
      ],
      "metadata": {
        "colab": {
          "base_uri": "https://localhost:8080/"
        },
        "id": "kF0RAYifwsyD",
        "outputId": "9edba5ab-dab0-454e-cc64-9a35ff96d37d"
      },
      "execution_count": 37,
      "outputs": [
        {
          "output_type": "stream",
          "name": "stdout",
          "text": [
            "Original DataFrame shape: (19164, 21)\n",
            "Trimmed DataFrame shape: (2125, 21)\n"
          ]
        }
      ]
    },
    {
      "cell_type": "code",
      "source": [
        "import numpy as np\n",
        "import pandas as pd\n",
        "\n",
        "def detect_outliers_zscore(sqft_living):\n",
        "    outliers = []\n",
        "    thres = 3\n",
        "    mean = np.mean(sqft_living)\n",
        "    std = np.std(sqft_living)\n",
        "    \n",
        "    for i in sqft_living:\n",
        "        z_score = (i - mean) / std\n",
        "        if np.abs(z_score) > thres:\n",
        "            outliers.append(i)\n",
        "    \n",
        "    return outliers\n",
        "\n",
        "df_outliers = detect_outliers_zscore(df['sqft_living'].values)\n",
        "print(\"Outliers from Z-scores method: \", df_outliers)\n",
        "\n",
        "# Create DataFrame without outliers\n",
        "df_without_outliers = df[~np.isin(df['sqft_living'].values, df_outliers)].copy()\n",
        "\n",
        "print(\"Original DataFrame shape:\", df.shape)\n",
        "print(\"DataFrame without outliers shape:\", df_without_outliers.shape)\n"
      ],
      "metadata": {
        "colab": {
          "base_uri": "https://localhost:8080/"
        },
        "id": "uTyzjHwA1_VP",
        "outputId": "b9145f27-24cb-4865-f03b-4143208d8747"
      },
      "execution_count": 50,
      "outputs": [
        {
          "output_type": "stream",
          "name": "stdout",
          "text": [
            "Outliers from Z-scores method:  [5420, 5180, 5050, 5310, 6070, 4870, 4860, 4860, 6050, 5403, 6050, 4860, 4890, 5670, 6070, 8010, 4930, 7390, 5320, 8000, 6563, 5450, 5710, 5620, 5774, 5040, 5770, 5180, 6400, 6055, 6300, 5110, 4910, 6840, 4930, 5180, 5130, 6640, 5740, 7350, 4870, 5020, 5370, 4860, 6930, 6550, 6110, 4883, 5010, 4910, 5410, 5340, 5230, 5370, 5780, 6240, 10040, 5360, 7480, 5620, 7080, 5760, 9200, 5310, 5180, 6810, 5830, 4930, 5700, 5990, 5070, 5040, 4890, 6390, 5450, 6410, 6330, 5860, 5990, 4970, 4940, 7220, 5480, 5440, 5180, 5400, 7050, 4870, 6210, 12050, 5480, 5850, 5250, 5330, 7100, 5230, 9640, 5030, 5660, 5067, 5270, 5150, 6430, 5720, 5584, 9890, 5770, 5540, 5050, 5220, 4850, 5844, 5530, 5270, 5860, 5545, 5960, 5000, 6510, 5050, 7400, 5730, 5370, 5000, 5440, 6085, 5461, 6640, 5300, 4850, 5000, 5000, 6900, 5840, 4980, 5490, 7420, 4850, 5100, 6200, 5280, 7440, 13540, 6980, 5850, 6380, 7880, 5270, 5370, 5190, 5350, 7620, 6200, 5840, 5550, 5290, 5290, 5020, 5480, 8670, 4930, 5470, 5160, 5770, 4980, 6040, 5310, 5010, 7000, 5600, 6030, 5170, 5310, 5930, 5550, 5860, 5810, 5210, 5110, 5960, 7730, 5610, 5090, 5150, 4960, 5480, 5040, 5120, 5550, 6500, 4920, 4860, 5190, 5570, 4960, 5240, 8020, 5470, 5540, 5820, 7710, 5020, 7320, 6630, 5510, 5490, 6490, 5300, 5080, 4910, 5430, 4890, 5610, 5050, 5330, 7850, 5305, 5120, 5220, 5060, 4920, 5635, 5550, 6670, 6530, 5350, 6370, 5790, 6260, 5780, 5790, 6160, 5370, 5940, 5520, 5190, 7120, 5430, 5010, 5640, 6880, 5230, 7270, 4920, 5150, 5090, 4850, 4910]\n",
            "Original DataFrame shape: (21597, 21)\n",
            "DataFrame without outliers shape: (21349, 21)\n"
          ]
        }
      ]
    },
    {
      "cell_type": "code",
      "source": [
        "import seaborn as sns\n",
        "import matplotlib.pyplot as plt\n",
        "\n",
        "# Calculate the correlation matrix\n",
        "correlation_matrix = df.corr()\n",
        "\n",
        "# Create the heatmap\n",
        "plt.figure(figsize=(12, 10))\n",
        "sns.heatmap(correlation_matrix, annot=True, cmap='coolwarm', linewidths=0.5)\n",
        "plt.title('Correlation Heatmap')\n",
        "plt.show()\n"
      ],
      "metadata": {
        "colab": {
          "base_uri": "https://localhost:8080/",
          "height": 987
        },
        "id": "6wxIy__LoCcy",
        "outputId": "e17bb1b4-cf58-4c55-8cba-02f93228e194"
      },
      "execution_count": 51,
      "outputs": [
        {
          "output_type": "stream",
          "name": "stderr",
          "text": [
            "<ipython-input-51-aa61b0b66de0>:5: FutureWarning: The default value of numeric_only in DataFrame.corr is deprecated. In a future version, it will default to False. Select only valid columns or specify the value of numeric_only to silence this warning.\n",
            "  correlation_matrix = df.corr()\n"
          ]
        },
        {
          "output_type": "display_data",
          "data": {
            "text/plain": [
              "<Figure size 1200x1000 with 2 Axes>"
            ],
            "image/png": "[encoded data removed]"
          },
          "metadata": {}
        }
      ]
    },
    {
      "cell_type": "markdown",
      "source": [
        "In a correlation heatmap, each variable is represented by a row and a column, and the cells show the correlation between them.\n",
        "The color of each cell represents the strength and direction of the correlation, with darker colors indicating stronger correlations.\n",
        "The correlation coefficient ranges from -1 to 1. \n",
        "A value of 1 indicates a perfect positive correlation, -1 indicates a perfect negative correlation, and 0 indicates no correlation.\n",
        "\n",
        "Correlation coefficients close to +1 (e.g., 0.8 or 0.9) indicate a strong positive correlation, where the variables tend to increase or decrease together.\n",
        "Correlation coefficients between 0 and +1 indicate a positive correlation, where an increase in one variable tends to be associated with an increase in the other variable, but the relationship may not be as strong.\n",
        "\n",
        "Correlation coefficients close to -1 (e.g., -0.8 or -0.9) indicate a strong negative correlation, where the variables tend to move in opposite directions.\n",
        "Correlation coefficients between 0 and -1 indicate a negative correlation, where an increase in one variable tends to be associated with a decrease in the other variable, but the relationship may not be as strong.\n",
        "\n",
        "A correlation coefficient of 0 indicates no linear relationship between the variables. This means that changes in one variable are not associated with changes in the other variable.\n"
      ],
      "metadata": {
        "id": "QdvQq0CHtC6p"
      }
    },
    {
      "cell_type": "code",
      "source": [
        "# identifying strong correlations\n",
        "#strong positive correlation - sqft_living and sqft_above(0.88),bathroom and sqft_living(0.76),sqft_living and price(0.7)\n",
        "                              \n",
        "#strong negative correlation - zipcode and long(-0.56)"
      ],
      "metadata": {
        "id": "PTaoEHHGu1FN"
      },
      "execution_count": null,
      "outputs": []
    },
    {
      "cell_type": "code",
      "source": [
        "#creating correlation matrix\n",
        "import pandas as pd\n",
        "\n",
        "df = pd.read_csv(file_path)\n",
        "\n",
        "index = ['id', 'date', 'price', 'bedrooms', 'bathrooms', 'sqft_living',\n",
        "       'sqft_lot', 'floors', 'waterfront', 'view', 'condition', 'grade',\n",
        "       'sqft_above', 'sqft_basement', 'yr_built', 'yr_renovated', 'zipcode',\n",
        "       'lat', 'long', 'sqft_living15', 'sqft_lot15']\n",
        "\n",
        "df_preprocessed = df[index].copy()\n",
        "\n",
        "correlation_matrix = df_preprocessed.corr()\n",
        "\n",
        "print(correlation_matrix)"
      ],
      "metadata": {
        "colab": {
          "base_uri": "https://localhost:8080/"
        },
        "id": "srsnO3RMZyeh",
        "outputId": "e4e1263f-0111-4186-c011-10ff932c7c8c"
      },
      "execution_count": 52,
      "outputs": [
        {
          "output_type": "stream",
          "name": "stdout",
          "text": [
            "                     id     price  bedrooms  bathrooms  sqft_living  sqft_lot  \\\n",
            "id             1.000000 -0.016772  0.001150   0.005162    -0.012241 -0.131911   \n",
            "price         -0.016772  1.000000  0.308787   0.525906     0.701917  0.089876   \n",
            "bedrooms       0.001150  0.308787  1.000000   0.514508     0.578212  0.032471   \n",
            "bathrooms      0.005162  0.525906  0.514508   1.000000     0.755758  0.088373   \n",
            "sqft_living   -0.012241  0.701917  0.578212   0.755758     1.000000  0.173453   \n",
            "sqft_lot      -0.131911  0.089876  0.032471   0.088373     0.173453  1.000000   \n",
            "floors         0.018608  0.256804  0.177944   0.502582     0.353953 -0.004814   \n",
            "sqft_above    -0.010799  0.605368  0.479386   0.686668     0.876448  0.184139   \n",
            "yr_built       0.021617  0.053953  0.155670   0.507173     0.318152  0.052946   \n",
            "yr_renovated  -0.012010  0.129599  0.018495   0.051050     0.055660  0.004513   \n",
            "zipcode       -0.008211 -0.053402 -0.154092  -0.204786    -0.199802 -0.129586   \n",
            "lat           -0.001798  0.306692 -0.009951   0.024280     0.052155 -0.085514   \n",
            "long           0.020672  0.022036  0.132054   0.224903     0.241214  0.230227   \n",
            "sqft_living15 -0.002701  0.585241  0.393406   0.569884     0.756402  0.144763   \n",
            "sqft_lot15    -0.138557  0.082845  0.030690   0.088303     0.184342  0.718204   \n",
            "\n",
            "                 floors  sqft_above  yr_built  yr_renovated   zipcode  \\\n",
            "id             0.018608   -0.010799  0.021617     -0.012010 -0.008211   \n",
            "price          0.256804    0.605368  0.053953      0.129599 -0.053402   \n",
            "bedrooms       0.177944    0.479386  0.155670      0.018495 -0.154092   \n",
            "bathrooms      0.502582    0.686668  0.507173      0.051050 -0.204786   \n",
            "sqft_living    0.353953    0.876448  0.318152      0.055660 -0.199802   \n",
            "sqft_lot      -0.004814    0.184139  0.052946      0.004513 -0.129586   \n",
            "floors         1.000000    0.523989  0.489193      0.003535 -0.059541   \n",
            "sqft_above     0.523989    1.000000  0.424037      0.022137 -0.261570   \n",
            "yr_built       0.489193    0.424037  1.000000     -0.225209 -0.347210   \n",
            "yr_renovated   0.003535    0.022137 -0.225209      1.000000  0.069846   \n",
            "zipcode       -0.059541   -0.261570 -0.347210      0.069846  1.000000   \n",
            "lat            0.049239   -0.001199 -0.148370      0.032145  0.266742   \n",
            "long           0.125943    0.344842  0.409993     -0.072156 -0.564259   \n",
            "sqft_living15  0.280102    0.731767  0.326377     -0.000247 -0.279299   \n",
            "sqft_lot15    -0.010722    0.195077  0.070777      0.003852 -0.147294   \n",
            "\n",
            "                    lat      long  sqft_living15  sqft_lot15  \n",
            "id            -0.001798  0.020672      -0.002701   -0.138557  \n",
            "price          0.306692  0.022036       0.585241    0.082845  \n",
            "bedrooms      -0.009951  0.132054       0.393406    0.030690  \n",
            "bathrooms      0.024280  0.224903       0.569884    0.088303  \n",
            "sqft_living    0.052155  0.241214       0.756402    0.184342  \n",
            "sqft_lot      -0.085514  0.230227       0.144763    0.718204  \n",
            "floors         0.049239  0.125943       0.280102   -0.010722  \n",
            "sqft_above    -0.001199  0.344842       0.731767    0.195077  \n",
            "yr_built      -0.148370  0.409993       0.326377    0.070777  \n",
            "yr_renovated   0.032145 -0.072156      -0.000247    0.003852  \n",
            "zipcode        0.266742 -0.564259      -0.279299   -0.147294  \n",
            "lat            1.000000 -0.135371       0.048679   -0.086139  \n",
            "long          -0.135371  1.000000       0.335626    0.255586  \n",
            "sqft_living15  0.048679  0.335626       1.000000    0.183515  \n",
            "sqft_lot15    -0.086139  0.255586       0.183515    1.000000  \n"
          ]
        },
        {
          "output_type": "stream",
          "name": "stderr",
          "text": [
            "<ipython-input-52-795bbb95d59e>:13: FutureWarning: The default value of numeric_only in DataFrame.corr is deprecated. In a future version, it will default to False. Select only valid columns or specify the value of numeric_only to silence this warning.\n",
            "  correlation_matrix = df_preprocessed.corr()\n"
          ]
        }
      ]
    },
    {
      "cell_type": "code",
      "source": [
        "#Return True for positive or negative correlations that are bigger than 0.75 in the correlation matrix:\n",
        "positive_correlations = correlation_matrix > 0.75\n",
        "negative_correlations = correlation_matrix < -0.75\n",
        "\n",
        "result = positive_correlations | negative_correlations\n",
        "\n",
        "print(result)\n"
      ],
      "metadata": {
        "colab": {
          "base_uri": "https://localhost:8080/"
        },
        "id": "9GcqdHWmbHeW",
        "outputId": "aebfbf20-e185-44b3-bbd9-d9a0ee76ceed"
      },
      "execution_count": 53,
      "outputs": [
        {
          "output_type": "stream",
          "name": "stdout",
          "text": [
            "                  id  price  bedrooms  bathrooms  sqft_living  sqft_lot  \\\n",
            "id              True  False     False      False        False     False   \n",
            "price          False   True     False      False        False     False   \n",
            "bedrooms       False  False      True      False        False     False   \n",
            "bathrooms      False  False     False       True         True     False   \n",
            "sqft_living    False  False     False       True         True     False   \n",
            "sqft_lot       False  False     False      False        False      True   \n",
            "floors         False  False     False      False        False     False   \n",
            "sqft_above     False  False     False      False         True     False   \n",
            "yr_built       False  False     False      False        False     False   \n",
            "yr_renovated   False  False     False      False        False     False   \n",
            "zipcode        False  False     False      False        False     False   \n",
            "lat            False  False     False      False        False     False   \n",
            "long           False  False     False      False        False     False   \n",
            "sqft_living15  False  False     False      False         True     False   \n",
            "sqft_lot15     False  False     False      False        False     False   \n",
            "\n",
            "               floors  sqft_above  yr_built  yr_renovated  zipcode    lat  \\\n",
            "id              False       False     False         False    False  False   \n",
            "price           False       False     False         False    False  False   \n",
            "bedrooms        False       False     False         False    False  False   \n",
            "bathrooms       False       False     False         False    False  False   \n",
            "sqft_living     False        True     False         False    False  False   \n",
            "sqft_lot        False       False     False         False    False  False   \n",
            "floors           True       False     False         False    False  False   \n",
            "sqft_above      False        True     False         False    False  False   \n",
            "yr_built        False       False      True         False    False  False   \n",
            "yr_renovated    False       False     False          True    False  False   \n",
            "zipcode         False       False     False         False     True  False   \n",
            "lat             False       False     False         False    False   True   \n",
            "long            False       False     False         False    False  False   \n",
            "sqft_living15   False       False     False         False    False  False   \n",
            "sqft_lot15      False       False     False         False    False  False   \n",
            "\n",
            "                long  sqft_living15  sqft_lot15  \n",
            "id             False          False       False  \n",
            "price          False          False       False  \n",
            "bedrooms       False          False       False  \n",
            "bathrooms      False          False       False  \n",
            "sqft_living    False           True       False  \n",
            "sqft_lot       False          False       False  \n",
            "floors         False          False       False  \n",
            "sqft_above     False          False       False  \n",
            "yr_built       False          False       False  \n",
            "yr_renovated   False          False       False  \n",
            "zipcode        False          False       False  \n",
            "lat            False          False       False  \n",
            "long            True          False       False  \n",
            "sqft_living15  False           True       False  \n",
            "sqft_lot15     False          False        True  \n"
          ]
        }
      ]
    },
    {
      "cell_type": "code",
      "source": [
        "positive_correlations = correlation_matrix > 0.75\n",
        "negative_correlations = correlation_matrix < -0.75\n",
        "\n",
        "result = positive_correlations | negative_correlations\n",
        "\n",
        "variable_pairs = []\n",
        "for i, col in enumerate(result.columns):\n",
        "    for j, row in enumerate(result.index[:i]):\n",
        "        if result[col][row]:\n",
        "            variable_pairs.append((col, row))\n",
        "\n",
        "print(variable_pairs)\n"
      ],
      "metadata": {
        "colab": {
          "base_uri": "https://localhost:8080/"
        },
        "id": "-dCds-beb87X",
        "outputId": "7f1f04df-0979-465d-8b11-f285187b6a75"
      },
      "execution_count": 54,
      "outputs": [
        {
          "output_type": "stream",
          "name": "stdout",
          "text": [
            "[('sqft_living', 'bathrooms'), ('sqft_above', 'sqft_living'), ('sqft_living15', 'sqft_living')]\n"
          ]
        }
      ]
    },
    {
      "cell_type": "markdown",
      "source": [
        "Based on the above, the following variables are highly correlated:\n",
        "\n",
        "'sqft_living' and 'bathrooms'\n",
        "'sqft_above' and 'sqft_living'\n",
        "'sqft_living15' and 'sqft_living'\n",
        "These variable pairs have correlations that meet the specified criteria, indicating a strong linear relationship between the variables."
      ],
      "metadata": {
        "id": "UfIAVWqfcrDe"
      }
    },
    {
      "cell_type": "markdown",
      "source": [
        "*Simple Linear Regression *\n",
        "\n",
        "scatter plot of the independent variable vs. the dependent variable\n"
      ],
      "metadata": {
        "id": "eK56mYIleQS8"
      }
    },
    {
      "cell_type": "code",
      "source": [
        "\n",
        "import numpy as np\n",
        "import matplotlib.pyplot as plt\n",
        "from matplotlib import style\n",
        "\n",
        "style.use('ggplot')\n",
        "\n",
        "# Initialize arrays X and Y with given values\n",
        "# X = Independent Variable\n",
        "X = np.array(['sqft_living_column'])\n",
        "\n",
        "# Y = Dependent Variable\n",
        "Y = np.array(['price_column'])\n",
        "\n"
      ],
      "metadata": {
        "id": "3AbXPuQ1eY-1"
      },
      "execution_count": 55,
      "outputs": []
    },
    {
      "cell_type": "code",
      "source": [
        "print(sqft_lot15_column.value_counts())"
      ],
      "metadata": {
        "id": "bMHhhX0Y4qMw",
        "outputId": "6f0faf61-cc4d-4b7e-c9c7-d0a683d98c35",
        "colab": {
          "base_uri": "https://localhost:8080/"
        }
      },
      "execution_count": 56,
      "outputs": [
        {
          "output_type": "stream",
          "name": "stdout",
          "text": [
            "5000     380\n",
            "4000     323\n",
            "6000     257\n",
            "7200     183\n",
            "4800     131\n",
            "        ... \n",
            "6053       1\n",
            "1799       1\n",
            "10049      1\n",
            "9128       1\n",
            "2007       1\n",
            "Name: sqft_lot15, Length: 8067, dtype: int64\n"
          ]
        }
      ]
    },
    {
      "cell_type": "code",
      "source": [
        "print(price_column.value_counts())"
      ],
      "metadata": {
        "id": "3eRElXD544FL",
        "outputId": "6c2953bc-bb1e-46c8-8802-c3e79af9a937",
        "colab": {
          "base_uri": "https://localhost:8080/"
        }
      },
      "execution_count": 57,
      "outputs": [
        {
          "output_type": "stream",
          "name": "stdout",
          "text": [
            "450000.0    152\n",
            "350000.0    146\n",
            "550000.0    144\n",
            "500000.0    142\n",
            "425000.0    135\n",
            "           ... \n",
            "787000.0      1\n",
            "280400.0      1\n",
            "118000.0      1\n",
            "258305.0      1\n",
            "402101.0      1\n",
            "Name: price, Length: 3382, dtype: int64\n"
          ]
        }
      ]
    },
    {
      "cell_type": "code",
      "source": [
        "print(sqft_living_column.value_counts())"
      ],
      "metadata": {
        "id": "5dBdexeu49fS",
        "outputId": "a726fd0c-5c8d-46ba-97f6-aa1df664bf31",
        "colab": {
          "base_uri": "https://localhost:8080/"
        }
      },
      "execution_count": 58,
      "outputs": [
        {
          "output_type": "stream",
          "name": "stdout",
          "text": [
            "1300    125\n",
            "1440    121\n",
            "1400    119\n",
            "1820    118\n",
            "1660    113\n",
            "       ... \n",
            "2216      1\n",
            "2497      1\n",
            "2331      1\n",
            "1899      1\n",
            "1425      1\n",
            "Name: sqft_living, Length: 991, dtype: int64\n"
          ]
        }
      ]
    },
    {
      "cell_type": "code",
      "source": [
        "import numpy as np\n",
        "import matplotlib.pyplot as plt\n",
        "\n",
        "# Select the desired features and the target variable\n",
        "features = ['bathrooms', 'sqft_living', 'sqft_above', 'sqft_living15']\n",
        "target = 'price'\n",
        "\n",
        "# Calculate the number of rows and columns for the subplot grid\n",
        "n_rows = 2\n",
        "n_cols = 4\n",
        "\n",
        "# Create subplots\n",
        "fig, axes = plt.subplots(n_rows, n_cols, figsize=(15, 10))\n",
        "\n",
        "# Flatten the axes array\n",
        "axes = axes.flatten()\n",
        "\n",
        "# Plotting bivariate relationships\n",
        "for i, feature in enumerate(features):\n",
        "    axes[i].scatter(df[feature], df[target], alpha=0.5)\n",
        "    axes[i].set_xlabel(feature)\n",
        "    axes[i].set_ylabel(target)\n",
        "    axes[i].set_title(f'{feature} vs {target}')\n",
        "\n",
        "# Remove any unused subplots\n",
        "if len(features) < n_rows * n_cols:\n",
        "    for j in range(len(features), n_rows * n_cols):\n",
        "        fig.delaxes(axes[j])\n",
        "\n",
        "# Adjust the layout and spacing\n",
        "plt.tight_layout()\n",
        "\n",
        "# Display the plots\n",
        "plt.show()\n"
      ],
      "metadata": {
        "id": "LLtvG_-a_eze",
        "outputId": "2a29d79e-add7-4563-faf6-5eeef923ff36",
        "colab": {
          "base_uri": "https://localhost:8080/",
          "height": 425
        }
      },
      "execution_count": 59,
      "outputs": [
        {
          "output_type": "display_data",
          "data": {
            "text/plain": [
              "<Figure size 1500x1000 with 4 Axes>"
            ],
            "image/png": "[encoded data removed]"
          },
          "metadata": {}
        }
      ]
    },
    {
      "cell_type": "code",
      "source": [],
      "metadata": {
        "id": "zL8N3OjU_jyp"
      },
      "execution_count": null,
      "outputs": []
    },
    {
      "cell_type": "markdown",
      "source": [
        "**Simple linear regression for our model**\n"
      ],
      "metadata": {
        "id": "ySfGHcPKxi83"
      }
    },
    {
      "cell_type": "code",
      "source": [
        "import statsmodels.api as sm\n",
        "\n",
        "# defining our x and y parameters\n",
        "x = df[\"sqft_living\"]\n",
        "y = df[\"price\"]\n",
        "\n",
        "x_predict = sm.OLS(y, sm.add_constant(x))\n",
        "model = sm.OLS(endog=y,exog=sm.add_constant(x))\n"
      ],
      "metadata": {
        "id": "ZHhW4nQCo-Q4"
      },
      "execution_count": 60,
      "outputs": []
    },
    {
      "cell_type": "code",
      "source": [
        "results =model.fit()\n",
        "summary = results.summary()\n",
        "print(summary)\n"
      ],
      "metadata": {
        "colab": {
          "base_uri": "https://localhost:8080/"
        },
        "id": "FGqdP9Wcbbp7",
        "outputId": "d0d5203b-fc38-4ec7-849d-eba074065447"
      },
      "execution_count": 61,
      "outputs": [
        {
          "output_type": "stream",
          "name": "stdout",
          "text": [
            "                            OLS Regression Results                            \n",
            "==============================================================================\n",
            "Dep. Variable:                  price   R-squared:                       0.493\n",
            "Model:                            OLS   Adj. R-squared:                  0.493\n",
            "Method:                 Least Squares   F-statistic:                 2.097e+04\n",
            "Date:                Tue, 30 May 2023   Prob (F-statistic):               0.00\n",
            "Time:                        18:08:35   Log-Likelihood:            -3.0006e+05\n",
            "No. Observations:               21597   AIC:                         6.001e+05\n",
            "Df Residuals:                   21595   BIC:                         6.001e+05\n",
            "Df Model:                           1                                         \n",
            "Covariance Type:            nonrobust                                         \n",
            "===============================================================================\n",
            "                  coef    std err          t      P>|t|      [0.025      0.975]\n",
            "-------------------------------------------------------------------------------\n",
            "const       -4.399e+04   4410.023     -9.975      0.000   -5.26e+04   -3.53e+04\n",
            "sqft_living   280.8630      1.939    144.819      0.000     277.062     284.664\n",
            "==============================================================================\n",
            "Omnibus:                    14801.942   Durbin-Watson:                   1.982\n",
            "Prob(Omnibus):                  0.000   Jarque-Bera (JB):           542662.604\n",
            "Skew:                           2.820   Prob(JB):                         0.00\n",
            "Kurtosis:                      26.901   Cond. No.                     5.63e+03\n",
            "==============================================================================\n",
            "\n",
            "Notes:\n",
            "[1] Standard Errors assume that the covariance matrix of the errors is correctly specified.\n",
            "[2] The condition number is large, 5.63e+03. This might indicate that there are\n",
            "strong multicollinearity or other numerical problems.\n"
          ]
        }
      ]
    },
    {
      "cell_type": "code",
      "source": [
        "import matplotlib.pyplot as plt\n",
        "import statsmodels.api as sm\n",
        "\n",
        "fig, ax = plt.subplots()\n",
        "df_preprocessed.plot.scatter(x=\"sqft_living\", y=\"price\", label=\"Data points\", ax=ax)\n",
        "sm.graphics.abline_plot(model_results=results, label=\"Regression line\", ax=ax, color=\"blue\")\n",
        "ax.legend()\n",
        "plt.show()"
      ],
      "metadata": {
        "colab": {
          "base_uri": "https://localhost:8080/",
          "height": 469
        },
        "id": "jd9tg0DjnFWl",
        "outputId": "165ce2cc-acb0-4c67-87e5-3e3ab3b4d565"
      },
      "execution_count": 49,
      "outputs": [
        {
          "output_type": "display_data",
          "data": {
            "text/plain": [
              "<Figure size 640x480 with 1 Axes>"
            ],
            "image/png": "[encoded data removed]"
          },
          "metadata": {}
        }
      ]
    },
    {
      "cell_type": "markdown",
      "source": [
        "**Distribution Analysis**"
      ],
      "metadata": {
        "id": "s720VFFRMIDg"
      }
    },
    {
      "cell_type": "code",
      "source": [
        "# We use a histogram to visualize the distribution of the prices\n",
        "plt.hist(df['price'], bins=40, edgecolor='black')\n",
        "plt.xlabel('Price')\n",
        "plt.ylabel('Frequency')\n",
        "plt.title('Distribution of Price')\n",
        "plt.show()"
      ],
      "metadata": {
        "id": "ZzoMvfpd3RAa"
      },
      "execution_count": null,
      "outputs": []
    },
    {
      "cell_type": "code",
      "source": [
        "# We use a histogram to visualize the distribution\n",
        "from scipy import stats\n",
        "\n",
        "plt.hist(df['price'], bins=40, density=True, alpha=0.5, label='Data')\n",
        "\n",
        "# Fit a log-normal distribution to the data\n",
        "params = stats.lognorm.fit(df['price'], loc=0)\n",
        "shape, loc, scale = params\n",
        "\n",
        "# Generate values for the log-normal distribution\n",
        "pdf = stats.lognorm.pdf(x, shape, loc, scale)\n",
        "\n",
        "# Plot the log-normal distribution\n",
        "plt.plot(x, pdf, 'r-', label='Log-Normal Distribution')\n",
        "\n",
        "plt.xlabel('Price')\n",
        "plt.ylabel('Density')\n",
        "plt.title('Distribution of Price')\n",
        "plt.legend()\n",
        "plt.show()"
      ],
      "metadata": {
        "id": "rGR1xQpK6ivj"
      },
      "execution_count": null,
      "outputs": []
    },
    {
      "cell_type": "markdown",
      "source": [
        "**Multiple linear Regression**"
      ],
      "metadata": {
        "id": "6iR4w8bySfpH"
      }
    },
    {
      "cell_type": "code",
      "source": [
        "#importing libraries \n",
        "import matplotlib.pyplot as plt\n",
        "import statsmodels.api as sm\n",
        "from sklearn.preprocessing import OneHotEncoder, StandardScaler\n",
        "from sklearn.linear_model import LinearRegression\n",
        "import sklearn.metrics as metrics\n",
        "from random import gauss\n",
        "from mpl_toolkits.mplot3d import Axes3D\n",
        "%matplotlib inline\n"
      ],
      "metadata": {
        "id": "V6MgeZm4j9wr"
      },
      "execution_count": null,
      "outputs": []
    },
    {
      "cell_type": "markdown",
      "source": [
        "1. **Dealing with Categorical variables**"
      ],
      "metadata": {
        "id": "xVuQ-N_IUvg3"
      }
    },
    {
      "cell_type": "code",
      "source": [
        "# waterfront\n"
      ],
      "metadata": {
        "id": "DqHM4tNyeLd8"
      },
      "execution_count": null,
      "outputs": []
    }
  ],
  "metadata": {
    "kernelspec": {
      "display_name": "Python 3",
      "language": "python",
      "name": "python3"
    },
    "language_info": {
      "codemirror_mode": {
        "name": "ipython",
        "version": 3
      },
      "file_extension": ".py",
      "mimetype": "text/x-python",
      "name": "python",
      "nbconvert_exporter": "python",
      "pygments_lexer": "ipython3",
      "version": "3.8.5"
    },
    "colab": {
      "provenance": [],
      "include_colab_link": true
    }
  },
  "nbformat": 4,
  "nbformat_minor": 0
}